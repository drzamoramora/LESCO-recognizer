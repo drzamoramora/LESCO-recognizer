{
 "cells": [
  {
   "cell_type": "markdown",
   "id": "1360d790",
   "metadata": {},
   "source": [
    "# Create LESCO Time-Series dataset with Image Augmentation\n",
    "\n",
    "Download the dataset at: [![DOI](https://zenodo.org/badge/DOI/10.5281/zenodo.5756387.svg)](https://doi.org/10.5281/zenodo.5756387)"
   ]
  },
  {
   "cell_type": "code",
   "execution_count": 94,
   "id": "2a582543",
   "metadata": {},
   "outputs": [],
   "source": [
    "import warnings\n",
    "warnings.filterwarnings('ignore')\n",
    "from IPython.display import clear_output\n",
    "\n",
    "import numpy as np\n",
    "import cv2 as cv\n",
    "import mediapipe as mp\n",
    "import matplotlib.pyplot as plt\n",
    "from sklearn.decomposition import PCA\n",
    "import pandas as pd\n",
    "import os\n",
    "import csv\n",
    "\n",
    "# code with all the needed fucntionality\n",
    "import lesco as lsc\n",
    "\n",
    "mp_hands = mp.solutions.hands"
   ]
  },
  {
   "cell_type": "code",
   "execution_count": 95,
   "id": "dc113a09",
   "metadata": {},
   "outputs": [
    {
     "name": "stdout",
     "output_type": "stream",
     "text": [
      "116 video files detected\n"
     ]
    }
   ],
   "source": [
    "# read all paths and extract classes from folder names.\n",
    "root = r\"C:\\Users\\XPC\\Desktop\\LESCO-dataset\"\n",
    "#root = r\"C:\\Users\\XPC\\Desktop\\LESCO_single\"\n",
    "\n",
    "classes_ = []\n",
    "files_ = []\n",
    "\n",
    "for path, subdirs, files in os.walk(root):\n",
    "    for name in files:\n",
    "        class_name = os.path.basename(path)\n",
    "        file_path = path + '\\\\' + name\n",
    "        classes_.append(class_name)\n",
    "        files_.append(file_path)\n",
    "        \n",
    "print(len(files_), \"video files detected\")"
   ]
  },
  {
   "cell_type": "markdown",
   "id": "b9239188",
   "metadata": {},
   "source": [
    "# Process All Files with Augmentation\n",
    "this might take a while, go for coffee..."
   ]
  },
  {
   "cell_type": "code",
   "execution_count": 97,
   "id": "3294d287",
   "metadata": {},
   "outputs": [
    {
     "name": "stdout",
     "output_type": "stream",
     "text": [
      "processing... violento\n",
      "completed 94.83 %\n",
      "examples created 18 \n",
      "\n",
      "processing... vomitar\n",
      "completed 95.69 %\n",
      "examples created 18 \n",
      "\n",
      "processing... vomitar\n",
      "completed 96.55 %\n",
      "examples created 18 \n",
      "\n",
      "processing... vomitar\n",
      "Error on C:\\Users\\XPC\\Desktop\\LESCO-dataset\\vomitar\\vomitar_3.mp4\n",
      "processing... yo\n",
      "completed 98.28 %\n",
      "examples created 18 \n",
      "\n",
      "processing... yo\n",
      "completed 99.14 %\n",
      "examples created 18 \n",
      "\n",
      "processing... yo\n",
      "completed 100.0 %\n",
      "examples created 18 \n",
      "\n",
      "All Videos Completed. Total Samples Created 654\n"
     ]
    }
   ],
   "source": [
    "videos = []\n",
    "videos_labels = []\n",
    "\n",
    "total = len(files_)\n",
    "count = 1\n",
    "\n",
    "for file_, class_ in zip(files_, classes_):\n",
    "    \n",
    "    try:\n",
    "        print(\"processing...\", class_)\n",
    "        # process videos with augmentation\n",
    "        v1 = lsc.process_video(file_, False, False, 0) # normal\n",
    "        v2 = lsc.process_video(file_, True, False, 0) # flipped\n",
    "        v3 = lsc.process_video(file_, False, True, 5) # normal with rotation +5\n",
    "        v4 = lsc.process_video(file_, False, True, -5) # normal with rotation -5\n",
    "        v5 = lsc.process_video(file_, True, True, 5) # flipped with rotaion +5\n",
    "        v6 = lsc.process_video(file_, True, True, -5) # flipped with rotation -5\n",
    "\n",
    "\n",
    "        # add to tensor\n",
    "        videos.append(v1)\n",
    "        videos.append(v2)\n",
    "        videos.append(v3)\n",
    "        videos.append(v4)\n",
    "        videos.append(v5)\n",
    "        videos.append(v6)\n",
    "\n",
    "        # create labeled list\n",
    "        videos_labels.append(class_)\n",
    "        videos_labels.append(class_)\n",
    "        videos_labels.append(class_)\n",
    "        videos_labels.append(class_)\n",
    "        videos_labels.append(class_)\n",
    "        videos_labels.append(class_)\n",
    "\n",
    "        print(\"completed\", round((count/total) * 100, 2), \"%\")\n",
    "        print(\"examples created\", len(videos), \"\\n\")\n",
    "\n",
    "    except:\n",
    "        print(\"Error on\", file_)\n",
    "\n",
    "    count = count + 1\n",
    "\n",
    "\n",
    "    if (count % 10 == 0):\n",
    "        clear_output(wait=True)\n",
    "    \n",
    "    \n",
    "print(\"All Videos Completed. Total Samples Created\", len(videos))    \n",
    "    "
   ]
  },
  {
   "cell_type": "code",
   "execution_count": 98,
   "id": "f5a5ab7c",
   "metadata": {},
   "outputs": [],
   "source": [
    "# save dataset to csv.\n",
    "# one csv for the videos other for the labels.\n",
    "\n",
    "with open(\"videos.csv\", \"w\", newline=\"\") as f:\n",
    "    writer = csv.writer(f)\n",
    "    writer.writerows(videos)\n",
    "\n",
    "with open(\"labels.csv\", \"w\", newline=\"\") as f:\n",
    "    writer = csv.writer(f, quoting=csv.QUOTE_ALL)\n",
    "    writer.writerow(videos_labels)"
   ]
  }
 ],
 "metadata": {
  "kernelspec": {
   "display_name": "Python 3 (ipykernel)",
   "language": "python",
   "name": "python3"
  },
  "language_info": {
   "codemirror_mode": {
    "name": "ipython",
    "version": 3
   },
   "file_extension": ".py",
   "mimetype": "text/x-python",
   "name": "python",
   "nbconvert_exporter": "python",
   "pygments_lexer": "ipython3",
   "version": "3.9.10"
  }
 },
 "nbformat": 4,
 "nbformat_minor": 5
}
