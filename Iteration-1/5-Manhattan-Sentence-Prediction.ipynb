{
 "cells": [
  {
   "cell_type": "markdown",
   "id": "dbcfcbdb",
   "metadata": {},
   "source": [
    "# Manhattan LESCO video prediction\n",
    "Preduction will be performed with a 50-frame moving window."
   ]
  },
  {
   "cell_type": "code",
   "execution_count": 1,
   "id": "6320bec1",
   "metadata": {},
   "outputs": [],
   "source": [
    "import csv\n",
    "import os\n",
    "import cv2 as cv\n",
    "import numpy as np\n",
    "import pandas as pd\n",
    "import matplotlib.pyplot as plt\n",
    "import math\n",
    "\n",
    "import lesco as lsc"
   ]
  },
  {
   "cell_type": "code",
   "execution_count": 2,
   "id": "43a27049",
   "metadata": {},
   "outputs": [],
   "source": [
    "# load all pre-proceesed videos.\n",
    "videos = []\n",
    "with open(\"videos.csv\", \"r\") as f:\n",
    "    reader = csv.reader(f, delimiter=\"\\t\")\n",
    "    for i, line in enumerate(reader):\n",
    "        video = [float(x) for x in line[0].split(',')]\n",
    "        videos.append(video)\n",
    "        \n",
    "labels = []\n",
    "with open(\"labels.csv\", \"r\") as f:\n",
    "    reader = csv.reader(f, delimiter=\"\\t\")\n",
    "    for i, line in enumerate(reader):\n",
    "        labels = [x.replace(\"'\",\"\").replace('\"',\"\") for x in line[0].split(',')]"
   ]
  },
  {
   "cell_type": "markdown",
   "id": "5f3809ff",
   "metadata": {},
   "source": [
    "## Load LESCO Emergency Sentences"
   ]
  },
  {
   "cell_type": "code",
   "execution_count": 3,
   "id": "355dcf0d",
   "metadata": {},
   "outputs": [
    {
     "name": "stdout",
     "output_type": "stream",
     "text": [
      "21 emergency videos detected\n"
     ]
    }
   ],
   "source": [
    "root = r'C:\\Users\\XPC\\Desktop\\LESCO-oraciones'\n",
    "\n",
    "files_ = []\n",
    "\n",
    "for path, subdirs, files in os.walk(root):\n",
    "    for name in files:\n",
    "        class_name = os.path.basename(path)\n",
    "        file_path = path + '\\\\' + name\n",
    "        files_.append(file_path)\n",
    "        \n",
    "print(len(files_),\"emergency videos detected\")"
   ]
  },
  {
   "cell_type": "code",
   "execution_count": 4,
   "id": "84be7ff4",
   "metadata": {},
   "outputs": [
    {
     "name": "stdout",
     "output_type": "stream",
     "text": [
      "C:\\Users\\XPC\\Desktop\\LESCO-oraciones\\bomberos_Estan quemando basura.mp4\n"
     ]
    }
   ],
   "source": [
    "# they are burning trash\n",
    "video_url = files_[0]\n",
    "print(video_url)\n",
    "\n",
    "cap = cv.VideoCapture(video_url)\n",
    "while cap.isOpened():\n",
    "    ret, frame = cap.read()\n",
    "    # if frame is read correctly ret is True\n",
    "    if not ret:\n",
    "        break\n",
    "    frame = cv.resize(frame, (480,300), interpolation = cv.INTER_AREA)            \n",
    "    cv.imshow('frame', frame)\n",
    "\n",
    "    if cv.waitKey(1) == ord('q'):\n",
    "        break\n",
    "\n",
    "cap.release()\n",
    "cv.destroyAllWindows()"
   ]
  },
  {
   "cell_type": "markdown",
   "id": "b7fb6f9f",
   "metadata": {},
   "source": [
    "## Video Segmentation"
   ]
  },
  {
   "cell_type": "code",
   "execution_count": 15,
   "id": "9b5ab45c",
   "metadata": {},
   "outputs": [
    {
     "name": "stdout",
     "output_type": "stream",
     "text": [
      "diff frames 28 29 30 6.4681875 6.444796296296296 0.022428240740740603\n",
      "diff frames 29 30 31 6.444796296296296 0.04581944444444445 0.6974328703703696\n",
      "diff frames 102 103 104 1.438761574074074 1.0216944444444445 0.6764791666666667\n",
      "diff frames 107 108 109 1.4637291666666667 0.9892013888888889 0.6448749999999999\n",
      "diff frames 182 183 184 5.339641203703704 3.4082962962962964 0.08602083333333299\n",
      "diff frames 211 212 213 5.504615740740741 3.3643564814814817 0.0005185185185183627\n",
      "diff frames 233 234 235 6.067983796296296 3.9934791666666665 0.3562152777777774\n",
      "diff frames 257 258 259 1.8513912037037037 1.2475300925925925 0.532835648148148\n"
     ]
    }
   ],
   "source": [
    "segmented_video = lsc.video_segmentation(video_url, 50, 0.7)\n",
    "\n",
    "lesco_segmented = []\n",
    "for frames in segmented_video:\n",
    "    signs = []\n",
    "    for frame in frames:\n",
    "        hand_array = lsc.get_hands(frame)\n",
    "        signs.append(hand_array)\n",
    "    final_sign = lsc.get_sign(signs)\n",
    "    lesco_segmented.append(final_sign)"
   ]
  },
  {
   "cell_type": "code",
   "execution_count": 16,
   "id": "b5afea00",
   "metadata": {},
   "outputs": [
    {
     "name": "stdout",
     "output_type": "stream",
     "text": [
      "each sign length 50\n",
      "each sign length 50\n",
      "each sign length 50\n",
      "each sign length 50\n",
      "each sign length 50\n",
      "each sign length 50\n",
      "each sign length 50\n",
      "each sign length 27\n"
     ]
    }
   ],
   "source": [
    "for x in lesco_segmented:\n",
    "    print(\"each sign length\", len(x))"
   ]
  },
  {
   "cell_type": "code",
   "execution_count": 17,
   "id": "a497ffb9",
   "metadata": {},
   "outputs": [],
   "source": [
    "# lets use manhattan distance to predict each one of the n-windows...\n",
    "def get_manhattan(train_data, test_item, labels, padding = 50):\n",
    "    similarity = []\n",
    "    test_item.extend([0] * (padding - len(test_item)))\n",
    "    for data in train_data:\n",
    "        data.extend([0] * (padding - len(data)))\n",
    "        s = 1 - np.abs(np.array(data) - np.array(test_item)).sum()\n",
    "        similarity.append(s)\n",
    "        \n",
    "    \n",
    "    df = pd.DataFrame({\n",
    "        \"labels\" : labels,\n",
    "        \"similarity\" : similarity\n",
    "    })\n",
    "    \n",
    "    df = df.sort_values(by=['similarity'], ascending=False)\n",
    "    \n",
    "    return df.iloc[0][\"labels\"]  # returns most similar class"
   ]
  },
  {
   "cell_type": "code",
   "execution_count": 18,
   "id": "c188f55c",
   "metadata": {},
   "outputs": [
    {
     "name": "stdout",
     "output_type": "stream",
     "text": [
      "All LESCO words detected ['esposo', 'hermana', 'veneno', 'personaacostada', 'chocar', 'personaacostada', 'tener', 'mi']\n",
      "Unique LESCO words detected ['esposo', 'hermana', 'veneno', 'personaacostada', 'chocar', 'tener', 'mi']\n"
     ]
    }
   ],
   "source": [
    "lesco_words = []\n",
    "for s in lesco_segmented:\n",
    "    word = get_manhattan(videos, s, labels)\n",
    "    lesco_words.append(word)\n",
    "    \n",
    "sentence_predicted = list(dict.fromkeys(lesco_words))\n",
    "print(\"All LESCO words detected\", lesco_words)\n",
    "print(\"Unique LESCO words detected\",sentence_predicted)"
   ]
  },
  {
   "cell_type": "code",
   "execution_count": null,
   "id": "85fc02a4",
   "metadata": {},
   "outputs": [],
   "source": []
  }
 ],
 "metadata": {
  "kernelspec": {
   "display_name": "Python 3 (ipykernel)",
   "language": "python",
   "name": "python3"
  },
  "language_info": {
   "codemirror_mode": {
    "name": "ipython",
    "version": 3
   },
   "file_extension": ".py",
   "mimetype": "text/x-python",
   "name": "python",
   "nbconvert_exporter": "python",
   "pygments_lexer": "ipython3",
   "version": "3.9.10"
  }
 },
 "nbformat": 4,
 "nbformat_minor": 5
}
