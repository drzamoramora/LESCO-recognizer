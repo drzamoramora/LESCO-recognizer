{
 "cells": [
  {
   "cell_type": "code",
   "execution_count": 1,
   "id": "9f783e46",
   "metadata": {},
   "outputs": [],
   "source": [
    "#import warnings\n",
    "#warnings.filterwarnings('ignore')\n",
    "\n",
    "import csv\n",
    "import numpy as np\n",
    "from sklearn.model_selection import train_test_split\n",
    "import tensorflow as tf\n",
    "import pandas as pd"
   ]
  },
  {
   "cell_type": "markdown",
   "id": "17e46a1f",
   "metadata": {},
   "source": [
    "# Data"
   ]
  },
  {
   "cell_type": "markdown",
   "id": "24ba61d6",
   "metadata": {},
   "source": [
    "## Load data from Iteration 1 csv's"
   ]
  },
  {
   "cell_type": "code",
   "execution_count": 2,
   "id": "23e8e243",
   "metadata": {},
   "outputs": [],
   "source": [
    "# load all pre-proceesed videos.\n",
    "videos = []\n",
    "with open(\"videos.csv\", \"r\") as f:\n",
    "    reader = csv.reader(f, delimiter=\"\\t\")\n",
    "    for i, line in enumerate(reader):\n",
    "        video = [float(x) for x in line[0].split(',')]\n",
    "        videos.append(video)\n",
    "        \n",
    "labels = []\n",
    "with open(\"labels.csv\", \"r\") as f:\n",
    "    reader = csv.reader(f, delimiter=\"\\t\")\n",
    "    for i, line in enumerate(reader):\n",
    "        labels = [x.replace(\"'\",\"\").replace('\"',\"\") for x in line[0].split(',')]"
   ]
  },
  {
   "cell_type": "code",
   "execution_count": 3,
   "id": "d123d724",
   "metadata": {},
   "outputs": [
    {
     "name": "stdout",
     "output_type": "stream",
     "text": [
      "Classes ['agredir' 'ahi' 'arboles' 'ataquecorazon' 'atropellar' 'basura' 'calle'\n",
      " 'carro' 'casa' 'chocar' 'cocina' 'desmayar' 'dolorestomago' 'ebrio'\n",
      " 'ellos' 'esposa' 'esposo' 'fosforo' 'fuego' 'hermana' 'hijo'\n",
      " 'inconsciente' 'llavecarro' 'madre' 'mi' 'muerto' 'nacerbebe' 'nopermiso'\n",
      " 'padre' 'personaacostada' 'pistola' 'talar' 'tener' 'tio' 'vecino'\n",
      " 'veneno' 'violento' 'vomitar' 'yo'] \n",
      "\n",
      "[ 0  0  0  0  0  0  0  0  0  0  0  0  0  0  0  0  0  0  1  1  1  1  1  1\n",
      "  1  1  1  1  1  1  1  1  1  1  1  1  2  2  2  2  2  2  2  2  2  2  2  2\n",
      "  2  2  2  2  2  2  3  3  3  3  3  3  3  3  3  3  3  3  3  3  3  3  3  3\n",
      "  4  4  4  4  4  4  4  4  4  4  4  4  4  4  4  4  4  4  5  5  5  5  5  5\n",
      "  5  5  5  5  5  5  5  5  5  5  5  5  6  6  6  6  6  6  6  6  6  6  6  6\n",
      "  6  6  6  6  6  6  7  7  7  7  7  7  7  7  7  7  7  7  7  7  7  7  7  7\n",
      "  8  8  8  8  8  8  8  8  8  8  8  8  8  8  8  8  8  8  9  9  9  9  9  9\n",
      "  9  9  9  9  9  9  9  9  9  9  9  9 10 10 10 10 10 10 10 10 10 10 10 10\n",
      " 10 10 10 10 10 10 11 11 11 11 11 11 11 11 11 11 11 11 12 12 12 12 12 12\n",
      " 12 12 12 12 12 12 12 12 12 12 12 12 13 13 13 13 13 13 13 13 13 13 13 13\n",
      " 13 13 13 13 13 13 14 14 14 14 14 14 14 14 14 14 14 14 14 14 14 14 14 14\n",
      " 15 15 15 15 15 15 15 15 15 15 15 15 15 15 15 15 15 15 16 16 16 16 16 16\n",
      " 16 16 16 16 16 16 16 16 16 16 16 16 17 17 17 17 17 17 17 17 17 17 17 17\n",
      " 18 18 18 18 18 18 18 18 18 18 18 18 18 18 18 18 18 18 19 19 19 19 19 19\n",
      " 19 19 19 19 19 19 19 19 19 19 19 19 20 20 20 20 20 20 20 20 20 20 20 20\n",
      " 20 20 20 20 20 20 21 21 21 21 21 21 21 21 21 21 21 21 22 22 22 22 22 22\n",
      " 22 22 22 22 22 22 22 22 22 22 22 22 23 23 23 23 23 23 23 23 23 23 23 23\n",
      " 23 23 23 23 23 23 24 24 24 24 24 24 24 24 24 24 24 24 24 24 24 24 24 24\n",
      " 25 25 25 25 25 25 25 25 25 25 25 25 25 25 25 25 25 25 26 26 26 26 26 26\n",
      " 26 26 26 26 26 26 27 27 27 27 27 27 27 27 27 27 27 27 28 28 28 28 28 28\n",
      " 28 28 28 28 28 28 28 28 28 28 28 28 29 29 29 29 29 29 29 29 29 29 29 29\n",
      " 29 29 29 29 29 29 30 30 30 30 30 30 30 30 30 30 30 30 30 30 30 30 30 30\n",
      " 31 31 31 31 31 31 31 31 31 31 31 31 31 31 31 31 31 31 32 32 32 32 32 32\n",
      " 32 32 32 32 32 32 32 32 32 32 32 32 33 33 33 33 33 33 33 33 33 33 33 33\n",
      " 34 34 34 34 34 34 34 34 34 34 34 34 34 34 34 34 34 34 35 35 35 35 35 35\n",
      " 35 35 35 35 35 35 35 35 35 35 35 35 36 36 36 36 36 36 36 36 36 36 36 36\n",
      " 37 37 37 37 37 37 37 37 37 37 37 37 38 38 38 38 38 38 38 38 38 38 38 38\n",
      " 38 38 38 38 38 38]\n"
     ]
    }
   ],
   "source": [
    "from sklearn import preprocessing\n",
    "\n",
    "le = preprocessing.LabelEncoder()\n",
    "le.fit(labels)\n",
    "\n",
    "print(\"Classes\",le.classes_, \"\\n\")\n",
    "\n",
    "labels_encoded = le.transform(labels)\n",
    "\n",
    "print(labels_encoded)"
   ]
  },
  {
   "cell_type": "markdown",
   "id": "b0ec1245",
   "metadata": {},
   "source": [
    "## Convert dataset to tensor (x, 50, 1)"
   ]
  },
  {
   "cell_type": "code",
   "execution_count": 4,
   "id": "12ec8f06",
   "metadata": {},
   "outputs": [
    {
     "data": {
      "text/plain": [
       "(654, 50, 1)"
      ]
     },
     "execution_count": 4,
     "metadata": {},
     "output_type": "execute_result"
    }
   ],
   "source": [
    "padding_size = 50\n",
    "\n",
    "for i in range(0,len(videos)):\n",
    "    videos[i].extend([0] * (padding_size - len(videos[i])))\n",
    "    \n",
    "    \n",
    "videos_tensor = []\n",
    "for video in videos:\n",
    "    videos_tensor.append(np.array(list(video)).reshape(-1,1))\n",
    "    \n",
    "videos_tensor = np.array(videos_tensor)\n",
    "videos_tensor.shape"
   ]
  },
  {
   "cell_type": "markdown",
   "id": "e7204c78",
   "metadata": {},
   "source": [
    "## Training and test set split"
   ]
  },
  {
   "cell_type": "code",
   "execution_count": 5,
   "id": "4bbf1474",
   "metadata": {},
   "outputs": [
    {
     "name": "stdout",
     "output_type": "stream",
     "text": [
      "Training 523\n",
      "Training 131\n"
     ]
    }
   ],
   "source": [
    "X_train, X_test, y_train, y_test = train_test_split(videos_tensor, labels_encoded, test_size=0.20, random_state=43)\n",
    "\n",
    "print(\"Training\", len(X_train))\n",
    "print(\"Training\", len(X_test))"
   ]
  },
  {
   "cell_type": "code",
   "execution_count": 6,
   "id": "9cbcc4eb",
   "metadata": {},
   "outputs": [
    {
     "data": {
      "text/plain": [
       "(523, 1)"
      ]
     },
     "execution_count": 6,
     "metadata": {},
     "output_type": "execute_result"
    }
   ],
   "source": [
    "y_train = np.array(y_train).reshape(-1,1)\n",
    "y_test = np.array(y_test).reshape(-1,1)\n",
    "\n",
    "y_train.shape"
   ]
  },
  {
   "cell_type": "markdown",
   "id": "b25feedf",
   "metadata": {},
   "source": [
    "# Machine Learning Models (GRU)"
   ]
  },
  {
   "cell_type": "code",
   "execution_count": 7,
   "id": "e2d696cb",
   "metadata": {},
   "outputs": [
    {
     "name": "stdout",
     "output_type": "stream",
     "text": [
      "Model: \"sequential\"\n",
      "_________________________________________________________________\n",
      "Layer (type)                 Output Shape              Param #   \n",
      "=================================================================\n",
      "gru (GRU)                    (None, 50, 30)            2970      \n",
      "_________________________________________________________________\n",
      "gru_1 (GRU)                  (None, 50, 20)            3120      \n",
      "_________________________________________________________________\n",
      "flatten (Flatten)            (None, 1000)              0         \n",
      "_________________________________________________________________\n",
      "dropout (Dropout)            (None, 1000)              0         \n",
      "_________________________________________________________________\n",
      "dense (Dense)                (None, 128)               128128    \n",
      "_________________________________________________________________\n",
      "dense_1 (Dense)              (None, 39)                5031      \n",
      "=================================================================\n",
      "Total params: 139,249\n",
      "Trainable params: 139,249\n",
      "Non-trainable params: 0\n",
      "_________________________________________________________________\n",
      "Epoch 1/100\n",
      "17/17 [==============================] - 4s 47ms/step - loss: 3.6451 - accuracy: 0.0516 - val_loss: 3.6178 - val_accuracy: 0.0840\n",
      "Epoch 2/100\n",
      "17/17 [==============================] - 0s 8ms/step - loss: 3.5154 - accuracy: 0.1166 - val_loss: 3.5546 - val_accuracy: 0.0992\n",
      "Epoch 3/100\n",
      "17/17 [==============================] - 0s 8ms/step - loss: 3.3512 - accuracy: 0.1166 - val_loss: 3.6145 - val_accuracy: 0.0763\n",
      "Epoch 4/100\n",
      "17/17 [==============================] - 0s 8ms/step - loss: 3.2210 - accuracy: 0.1625 - val_loss: 3.5686 - val_accuracy: 0.1069\n",
      "Epoch 5/100\n",
      "17/17 [==============================] - 0s 8ms/step - loss: 3.1139 - accuracy: 0.2199 - val_loss: 3.6027 - val_accuracy: 0.1527\n",
      "Epoch 6/100\n",
      "17/17 [==============================] - 0s 8ms/step - loss: 3.0128 - accuracy: 0.2505 - val_loss: 3.6671 - val_accuracy: 0.1298\n",
      "Epoch 7/100\n",
      "17/17 [==============================] - 0s 8ms/step - loss: 2.9359 - accuracy: 0.2811 - val_loss: 3.6658 - val_accuracy: 0.1679\n",
      "Epoch 8/100\n",
      "17/17 [==============================] - 0s 8ms/step - loss: 2.8662 - accuracy: 0.2830 - val_loss: 3.6954 - val_accuracy: 0.1603\n",
      "Epoch 9/100\n",
      "17/17 [==============================] - 0s 8ms/step - loss: 2.7961 - accuracy: 0.2964 - val_loss: 3.6883 - val_accuracy: 0.1603\n",
      "Epoch 10/100\n",
      "17/17 [==============================] - 0s 8ms/step - loss: 2.7387 - accuracy: 0.3231 - val_loss: 3.6980 - val_accuracy: 0.1908\n",
      "Epoch 11/100\n",
      "17/17 [==============================] - 0s 8ms/step - loss: 2.6763 - accuracy: 0.3059 - val_loss: 3.7200 - val_accuracy: 0.1832\n",
      "Epoch 12/100\n",
      "17/17 [==============================] - 0s 8ms/step - loss: 2.5912 - accuracy: 0.3403 - val_loss: 3.6831 - val_accuracy: 0.1985\n",
      "Epoch 13/100\n",
      "17/17 [==============================] - 0s 8ms/step - loss: 2.4979 - accuracy: 0.3881 - val_loss: 3.6335 - val_accuracy: 0.2061\n",
      "Epoch 14/100\n",
      "17/17 [==============================] - 0s 8ms/step - loss: 2.4360 - accuracy: 0.3614 - val_loss: 3.5657 - val_accuracy: 0.2214\n",
      "Epoch 15/100\n",
      "17/17 [==============================] - 0s 8ms/step - loss: 2.3145 - accuracy: 0.4092 - val_loss: 3.5693 - val_accuracy: 0.2366\n",
      "Epoch 16/100\n",
      "17/17 [==============================] - 0s 8ms/step - loss: 2.2183 - accuracy: 0.4302 - val_loss: 3.5004 - val_accuracy: 0.2443\n",
      "Epoch 17/100\n",
      "17/17 [==============================] - 0s 8ms/step - loss: 2.0731 - accuracy: 0.4340 - val_loss: 3.4393 - val_accuracy: 0.2443\n",
      "Epoch 18/100\n",
      "17/17 [==============================] - 0s 8ms/step - loss: 1.9254 - accuracy: 0.4818 - val_loss: 3.4529 - val_accuracy: 0.2519\n",
      "Epoch 19/100\n",
      "17/17 [==============================] - 0s 8ms/step - loss: 1.8517 - accuracy: 0.4914 - val_loss: 3.3848 - val_accuracy: 0.2443\n",
      "Epoch 20/100\n",
      "17/17 [==============================] - 0s 8ms/step - loss: 1.7271 - accuracy: 0.5277 - val_loss: 3.3875 - val_accuracy: 0.2748\n",
      "Epoch 21/100\n",
      "17/17 [==============================] - 0s 8ms/step - loss: 1.5844 - accuracy: 0.5507 - val_loss: 3.2862 - val_accuracy: 0.2977\n",
      "Epoch 22/100\n",
      "17/17 [==============================] - 0s 8ms/step - loss: 1.4658 - accuracy: 0.6099 - val_loss: 3.2752 - val_accuracy: 0.3053\n",
      "Epoch 23/100\n",
      "17/17 [==============================] - 0s 8ms/step - loss: 1.3707 - accuracy: 0.6157 - val_loss: 3.2536 - val_accuracy: 0.3435\n",
      "Epoch 24/100\n",
      "17/17 [==============================] - 0s 8ms/step - loss: 1.3086 - accuracy: 0.6176 - val_loss: 3.1944 - val_accuracy: 0.3130\n",
      "Epoch 25/100\n",
      "17/17 [==============================] - 0s 8ms/step - loss: 1.2020 - accuracy: 0.6291 - val_loss: 3.0431 - val_accuracy: 0.4046\n",
      "Epoch 26/100\n",
      "17/17 [==============================] - 0s 8ms/step - loss: 1.0834 - accuracy: 0.6654 - val_loss: 3.0436 - val_accuracy: 0.3969\n",
      "Epoch 27/100\n",
      "17/17 [==============================] - 0s 8ms/step - loss: 1.0388 - accuracy: 0.6864 - val_loss: 3.0208 - val_accuracy: 0.3511\n",
      "Epoch 28/100\n",
      "17/17 [==============================] - 0s 8ms/step - loss: 0.9075 - accuracy: 0.7113 - val_loss: 3.0468 - val_accuracy: 0.4198\n",
      "Epoch 29/100\n",
      "17/17 [==============================] - 0s 8ms/step - loss: 0.7983 - accuracy: 0.7591 - val_loss: 3.0476 - val_accuracy: 0.4198\n",
      "Epoch 30/100\n",
      "17/17 [==============================] - 0s 8ms/step - loss: 0.7556 - accuracy: 0.7992 - val_loss: 2.9755 - val_accuracy: 0.4733\n",
      "Epoch 31/100\n",
      "17/17 [==============================] - 0s 8ms/step - loss: 0.6867 - accuracy: 0.7839 - val_loss: 2.9188 - val_accuracy: 0.4580\n",
      "Epoch 32/100\n",
      "17/17 [==============================] - 0s 8ms/step - loss: 0.6506 - accuracy: 0.8088 - val_loss: 3.0136 - val_accuracy: 0.4809\n",
      "Epoch 33/100\n",
      "17/17 [==============================] - 0s 8ms/step - loss: 0.5937 - accuracy: 0.8241 - val_loss: 3.0436 - val_accuracy: 0.4656\n",
      "Epoch 34/100\n",
      "17/17 [==============================] - 0s 8ms/step - loss: 0.4859 - accuracy: 0.8700 - val_loss: 2.9801 - val_accuracy: 0.4733\n",
      "Epoch 35/100\n",
      "17/17 [==============================] - 0s 8ms/step - loss: 0.4688 - accuracy: 0.8585 - val_loss: 2.9756 - val_accuracy: 0.4809\n",
      "Epoch 36/100\n",
      "17/17 [==============================] - 0s 8ms/step - loss: 0.4449 - accuracy: 0.8681 - val_loss: 2.9657 - val_accuracy: 0.5267\n",
      "Epoch 37/100\n",
      "17/17 [==============================] - 0s 8ms/step - loss: 0.4007 - accuracy: 0.8910 - val_loss: 3.0071 - val_accuracy: 0.4885\n",
      "Epoch 38/100\n",
      "17/17 [==============================] - 0s 8ms/step - loss: 0.3441 - accuracy: 0.9044 - val_loss: 2.9809 - val_accuracy: 0.5115\n",
      "Epoch 39/100\n",
      "17/17 [==============================] - 0s 8ms/step - loss: 0.3105 - accuracy: 0.9063 - val_loss: 3.0226 - val_accuracy: 0.5115\n",
      "Epoch 40/100\n",
      "17/17 [==============================] - 0s 8ms/step - loss: 0.2858 - accuracy: 0.9216 - val_loss: 2.9398 - val_accuracy: 0.5496\n",
      "Epoch 41/100\n",
      "17/17 [==============================] - 0s 9ms/step - loss: 0.3118 - accuracy: 0.9178 - val_loss: 3.0661 - val_accuracy: 0.5267\n",
      "Epoch 42/100\n",
      "17/17 [==============================] - 0s 8ms/step - loss: 0.2340 - accuracy: 0.9369 - val_loss: 2.9308 - val_accuracy: 0.5573\n",
      "Epoch 43/100\n",
      "17/17 [==============================] - 0s 8ms/step - loss: 0.2326 - accuracy: 0.9350 - val_loss: 3.0853 - val_accuracy: 0.5496\n",
      "Epoch 44/100\n",
      "17/17 [==============================] - 0s 8ms/step - loss: 0.2422 - accuracy: 0.9350 - val_loss: 3.1372 - val_accuracy: 0.5038\n",
      "Epoch 45/100\n",
      "17/17 [==============================] - 0s 9ms/step - loss: 0.2129 - accuracy: 0.9331 - val_loss: 3.1108 - val_accuracy: 0.5420\n",
      "Epoch 46/100\n",
      "17/17 [==============================] - 0s 9ms/step - loss: 0.2024 - accuracy: 0.9331 - val_loss: 3.1620 - val_accuracy: 0.5725\n",
      "Epoch 47/100\n",
      "17/17 [==============================] - 0s 8ms/step - loss: 0.1948 - accuracy: 0.9560 - val_loss: 3.0920 - val_accuracy: 0.5344\n",
      "Epoch 48/100\n",
      "17/17 [==============================] - 0s 8ms/step - loss: 0.1614 - accuracy: 0.9579 - val_loss: 3.1856 - val_accuracy: 0.5420\n",
      "Epoch 49/100\n",
      "17/17 [==============================] - 0s 8ms/step - loss: 0.1563 - accuracy: 0.9618 - val_loss: 3.2340 - val_accuracy: 0.5191\n",
      "Epoch 50/100\n"
     ]
    },
    {
     "name": "stdout",
     "output_type": "stream",
     "text": [
      "17/17 [==============================] - 0s 9ms/step - loss: 0.1537 - accuracy: 0.9637 - val_loss: 3.2843 - val_accuracy: 0.5115\n",
      "Epoch 51/100\n",
      "17/17 [==============================] - 0s 9ms/step - loss: 0.1212 - accuracy: 0.9637 - val_loss: 3.2494 - val_accuracy: 0.5191\n",
      "Epoch 52/100\n",
      "17/17 [==============================] - 0s 9ms/step - loss: 0.1307 - accuracy: 0.9618 - val_loss: 3.2068 - val_accuracy: 0.5573\n",
      "Epoch 53/100\n",
      "17/17 [==============================] - 0s 9ms/step - loss: 0.1538 - accuracy: 0.9560 - val_loss: 3.1206 - val_accuracy: 0.5954\n",
      "Epoch 54/100\n",
      "17/17 [==============================] - 0s 9ms/step - loss: 0.1296 - accuracy: 0.9637 - val_loss: 3.1505 - val_accuracy: 0.5573\n",
      "Epoch 55/100\n",
      "17/17 [==============================] - 0s 9ms/step - loss: 0.1024 - accuracy: 0.9751 - val_loss: 3.3122 - val_accuracy: 0.5420\n",
      "Epoch 56/100\n",
      "17/17 [==============================] - 0s 8ms/step - loss: 0.1174 - accuracy: 0.9694 - val_loss: 3.2920 - val_accuracy: 0.5115\n",
      "Epoch 57/100\n",
      "17/17 [==============================] - 0s 8ms/step - loss: 0.1229 - accuracy: 0.9637 - val_loss: 3.2699 - val_accuracy: 0.5496\n",
      "Epoch 58/100\n",
      "17/17 [==============================] - 0s 8ms/step - loss: 0.0912 - accuracy: 0.9751 - val_loss: 3.3058 - val_accuracy: 0.5496\n",
      "Epoch 59/100\n",
      "17/17 [==============================] - 0s 8ms/step - loss: 0.0915 - accuracy: 0.9847 - val_loss: 3.2341 - val_accuracy: 0.5573\n",
      "Epoch 60/100\n",
      "17/17 [==============================] - 0s 8ms/step - loss: 0.0829 - accuracy: 0.9809 - val_loss: 3.4020 - val_accuracy: 0.5267\n",
      "Epoch 61/100\n",
      "17/17 [==============================] - 0s 9ms/step - loss: 0.0740 - accuracy: 0.9790 - val_loss: 3.3045 - val_accuracy: 0.5420\n",
      "Epoch 62/100\n",
      "17/17 [==============================] - 0s 9ms/step - loss: 0.0885 - accuracy: 0.9790 - val_loss: 3.3544 - val_accuracy: 0.5496\n",
      "Epoch 63/100\n",
      "17/17 [==============================] - 0s 9ms/step - loss: 0.0732 - accuracy: 0.9847 - val_loss: 3.3267 - val_accuracy: 0.5496\n",
      "Epoch 64/100\n",
      "17/17 [==============================] - 0s 9ms/step - loss: 0.0689 - accuracy: 0.9885 - val_loss: 3.3433 - val_accuracy: 0.5420\n",
      "Epoch 65/100\n",
      "17/17 [==============================] - 0s 9ms/step - loss: 0.0686 - accuracy: 0.9885 - val_loss: 3.3364 - val_accuracy: 0.5496\n",
      "Epoch 66/100\n",
      "17/17 [==============================] - 0s 8ms/step - loss: 0.0602 - accuracy: 0.9866 - val_loss: 3.6064 - val_accuracy: 0.5344\n",
      "Epoch 67/100\n",
      "17/17 [==============================] - 0s 8ms/step - loss: 0.0580 - accuracy: 0.9828 - val_loss: 3.4516 - val_accuracy: 0.5496\n",
      "Epoch 68/100\n",
      "17/17 [==============================] - 0s 8ms/step - loss: 0.0532 - accuracy: 0.9828 - val_loss: 3.4452 - val_accuracy: 0.5725\n",
      "Epoch 69/100\n",
      "17/17 [==============================] - 0s 8ms/step - loss: 0.0783 - accuracy: 0.9732 - val_loss: 3.4341 - val_accuracy: 0.5802\n",
      "Epoch 70/100\n",
      "17/17 [==============================] - 0s 8ms/step - loss: 0.0542 - accuracy: 0.9924 - val_loss: 3.4346 - val_accuracy: 0.5496\n",
      "Epoch 71/100\n",
      "17/17 [==============================] - 0s 8ms/step - loss: 0.0640 - accuracy: 0.9828 - val_loss: 3.5098 - val_accuracy: 0.5496\n",
      "Epoch 72/100\n",
      "17/17 [==============================] - 0s 8ms/step - loss: 0.0605 - accuracy: 0.9828 - val_loss: 3.5199 - val_accuracy: 0.5191\n",
      "Epoch 73/100\n",
      "17/17 [==============================] - 0s 8ms/step - loss: 0.0464 - accuracy: 0.9924 - val_loss: 3.3923 - val_accuracy: 0.5420\n",
      "Epoch 74/100\n",
      "17/17 [==============================] - 0s 9ms/step - loss: 0.0503 - accuracy: 0.9885 - val_loss: 3.4417 - val_accuracy: 0.5573\n",
      "Epoch 75/100\n",
      "17/17 [==============================] - 0s 9ms/step - loss: 0.0496 - accuracy: 0.9847 - val_loss: 3.3980 - val_accuracy: 0.5649\n",
      "Epoch 76/100\n",
      "17/17 [==============================] - 0s 8ms/step - loss: 0.0247 - accuracy: 0.9962 - val_loss: 3.3727 - val_accuracy: 0.5649\n",
      "Epoch 77/100\n",
      "17/17 [==============================] - 0s 9ms/step - loss: 0.0419 - accuracy: 0.9885 - val_loss: 3.4651 - val_accuracy: 0.5496\n",
      "Epoch 78/100\n",
      "17/17 [==============================] - 0s 9ms/step - loss: 0.0420 - accuracy: 0.9885 - val_loss: 3.4155 - val_accuracy: 0.5649\n",
      "Epoch 79/100\n",
      "17/17 [==============================] - 0s 9ms/step - loss: 0.0298 - accuracy: 0.9943 - val_loss: 3.4327 - val_accuracy: 0.5802\n",
      "Epoch 80/100\n",
      "17/17 [==============================] - 0s 9ms/step - loss: 0.0314 - accuracy: 0.9981 - val_loss: 3.4913 - val_accuracy: 0.5802\n",
      "Epoch 81/100\n",
      "17/17 [==============================] - 0s 9ms/step - loss: 0.0330 - accuracy: 0.9943 - val_loss: 3.4671 - val_accuracy: 0.5725\n",
      "Epoch 82/100\n",
      "17/17 [==============================] - 0s 9ms/step - loss: 0.0359 - accuracy: 0.9904 - val_loss: 3.4874 - val_accuracy: 0.5649\n",
      "Epoch 83/100\n",
      "17/17 [==============================] - 0s 8ms/step - loss: 0.0337 - accuracy: 0.9962 - val_loss: 3.5855 - val_accuracy: 0.5496\n",
      "Epoch 84/100\n",
      "17/17 [==============================] - 0s 8ms/step - loss: 0.0432 - accuracy: 0.9885 - val_loss: 3.6563 - val_accuracy: 0.5420\n",
      "Epoch 85/100\n",
      "17/17 [==============================] - 0s 9ms/step - loss: 0.0557 - accuracy: 0.9828 - val_loss: 3.5570 - val_accuracy: 0.5725\n",
      "Epoch 86/100\n",
      "17/17 [==============================] - 0s 9ms/step - loss: 0.0300 - accuracy: 0.9904 - val_loss: 3.6825 - val_accuracy: 0.5344\n",
      "Epoch 87/100\n",
      "17/17 [==============================] - 0s 9ms/step - loss: 0.0231 - accuracy: 0.9981 - val_loss: 3.7080 - val_accuracy: 0.5496\n",
      "Epoch 88/100\n",
      "17/17 [==============================] - 0s 9ms/step - loss: 0.0193 - accuracy: 1.0000 - val_loss: 3.7122 - val_accuracy: 0.5573\n",
      "Epoch 89/100\n",
      "17/17 [==============================] - 0s 9ms/step - loss: 0.0245 - accuracy: 0.9943 - val_loss: 3.7214 - val_accuracy: 0.5496\n",
      "Epoch 90/100\n",
      "17/17 [==============================] - 0s 9ms/step - loss: 0.0334 - accuracy: 0.9866 - val_loss: 3.6951 - val_accuracy: 0.5802\n",
      "Epoch 91/100\n",
      "17/17 [==============================] - 0s 8ms/step - loss: 0.0343 - accuracy: 0.9904 - val_loss: 3.6803 - val_accuracy: 0.5954\n",
      "Epoch 92/100\n",
      "17/17 [==============================] - 0s 8ms/step - loss: 0.0243 - accuracy: 0.9943 - val_loss: 3.6168 - val_accuracy: 0.5802\n",
      "Epoch 93/100\n",
      "17/17 [==============================] - 0s 9ms/step - loss: 0.0234 - accuracy: 0.9924 - val_loss: 3.6083 - val_accuracy: 0.5802\n",
      "Epoch 94/100\n",
      "17/17 [==============================] - 0s 9ms/step - loss: 0.0249 - accuracy: 0.9943 - val_loss: 3.5871 - val_accuracy: 0.5649\n",
      "Epoch 95/100\n",
      "17/17 [==============================] - 0s 9ms/step - loss: 0.0432 - accuracy: 0.9885 - val_loss: 3.7542 - val_accuracy: 0.5649\n",
      "Epoch 96/100\n",
      "17/17 [==============================] - 0s 9ms/step - loss: 0.0194 - accuracy: 0.9981 - val_loss: 3.8140 - val_accuracy: 0.5496\n",
      "Epoch 97/100\n",
      "17/17 [==============================] - 0s 9ms/step - loss: 0.0294 - accuracy: 0.9924 - val_loss: 3.7529 - val_accuracy: 0.5649\n",
      "Epoch 98/100\n",
      "17/17 [==============================] - 0s 8ms/step - loss: 0.0309 - accuracy: 0.9904 - val_loss: 3.7296 - val_accuracy: 0.5420\n",
      "Epoch 99/100\n",
      "17/17 [==============================] - 0s 9ms/step - loss: 0.0219 - accuracy: 0.9904 - val_loss: 3.7662 - val_accuracy: 0.5496\n",
      "Epoch 100/100\n",
      "17/17 [==============================] - 0s 9ms/step - loss: 0.0136 - accuracy: 0.9981 - val_loss: 3.8617 - val_accuracy: 0.5725\n"
     ]
    }
   ],
   "source": [
    "model = tf.keras.models.Sequential([\n",
    "  # ===============================\n",
    "  tf.keras.layers.GRU(30, return_sequences = True, input_shape=[50,1]),\n",
    "  tf.keras.layers.GRU(20, return_sequences = True),  \n",
    "  # ===============================\n",
    "  tf.keras.layers.Flatten(),\n",
    "  tf.keras.layers.Dropout(0.5),\n",
    "  tf.keras.layers.Dense(128, activation='selu'),\n",
    "  tf.keras.layers.Dense(39, activation='softmax')\n",
    "])\n",
    "\n",
    "model.compile(optimizer='adam', loss='sparse_categorical_crossentropy', metrics=['accuracy'])\n",
    "model.summary()\n",
    "\n",
    "history = model.fit(X_train, y_train, epochs=100, verbose=1,  validation_data=(X_test, y_test))"
   ]
  },
  {
   "cell_type": "code",
   "execution_count": 8,
   "id": "5c78ce48",
   "metadata": {},
   "outputs": [
    {
     "data": {
      "image/png": "[encoded data removed]",
      "text/plain": [
       "<Figure size 432x288 with 1 Axes>"
      ]
     },
     "metadata": {
      "needs_background": "light"
     },
     "output_type": "display_data"
    },
    {
     "data": {
      "image/png": "[encoded data removed]",
      "text/plain": [
       "<Figure size 432x288 with 1 Axes>"
      ]
     },
     "metadata": {
      "needs_background": "light"
     },
     "output_type": "display_data"
    }
   ],
   "source": [
    "import matplotlib.pyplot as plt\n",
    "\n",
    "plt.plot(history.history['accuracy'])\n",
    "plt.plot(history.history['val_accuracy'])\n",
    "plt.title('model accuracy')\n",
    "plt.ylabel('accuracy')\n",
    "plt.xlabel('epoch')\n",
    "plt.legend(['train', 'test'], loc='upper left')\n",
    "plt.show()\n",
    "\n",
    "plt.plot(history.history['loss'])\n",
    "plt.plot(history.history['val_loss'])\n",
    "plt.title('model loss')\n",
    "plt.ylabel('loss')\n",
    "plt.xlabel('epoch')\n",
    "plt.legend(['train', 'test'], loc='upper left')\n",
    "plt.show()"
   ]
  },
  {
   "cell_type": "code",
   "execution_count": 9,
   "id": "16279c4b",
   "metadata": {},
   "outputs": [],
   "source": [
    "# train set acc: 99%, test set acc: 57%, there is overfitting over the training set."
   ]
  }
 ],
 "metadata": {
  "kernelspec": {
   "display_name": "Python 3 (ipykernel)",
   "language": "python",
   "name": "python3"
  },
  "language_info": {
   "codemirror_mode": {
    "name": "ipython",
    "version": 3
   },
   "file_extension": ".py",
   "mimetype": "text/x-python",
   "name": "python",
   "nbconvert_exporter": "python",
   "pygments_lexer": "ipython3",
   "version": "3.9.10"
  }
 },
 "nbformat": 4,
 "nbformat_minor": 5
}
