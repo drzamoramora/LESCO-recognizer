{
 "cells": [
  {
   "cell_type": "code",
   "execution_count": 1,
   "id": "9f783e46",
   "metadata": {},
   "outputs": [],
   "source": [
    "#import warnings\n",
    "#warnings.filterwarnings('ignore')\n",
    "\n",
    "import csv\n",
    "import numpy as np\n",
    "from sklearn.model_selection import train_test_split\n",
    "import tensorflow as tf\n",
    "import pandas as pd"
   ]
  },
  {
   "cell_type": "markdown",
   "id": "17e46a1f",
   "metadata": {},
   "source": [
    "# Data"
   ]
  },
  {
   "cell_type": "markdown",
   "id": "24ba61d6",
   "metadata": {},
   "source": [
    "## Load data from Iteration 1 csv's"
   ]
  },
  {
   "cell_type": "code",
   "execution_count": 2,
   "id": "23e8e243",
   "metadata": {},
   "outputs": [],
   "source": [
    "# load all pre-proceesed videos.\n",
    "videos = []\n",
    "with open(\"videos.csv\", \"r\") as f:\n",
    "    reader = csv.reader(f, delimiter=\"\\t\")\n",
    "    for i, line in enumerate(reader):\n",
    "        video = [float(x) for x in line[0].split(',')]\n",
    "        videos.append(video)\n",
    "        \n",
    "labels = []\n",
    "with open(\"labels.csv\", \"r\") as f:\n",
    "    reader = csv.reader(f, delimiter=\"\\t\")\n",
    "    for i, line in enumerate(reader):\n",
    "        labels = [x.replace(\"'\",\"\").replace('\"',\"\") for x in line[0].split(',')]"
   ]
  },
  {
   "cell_type": "code",
   "execution_count": 3,
   "id": "d123d724",
   "metadata": {},
   "outputs": [
    {
     "name": "stdout",
     "output_type": "stream",
     "text": [
      "Classes ['agredir' 'ahi' 'arboles' 'ataquecorazon' 'atropellar' 'basura' 'calle'\n",
      " 'carro' 'casa' 'chocar' 'cocina' 'desmayar' 'dolorestomago' 'ebrio'\n",
      " 'ellos' 'esposa' 'esposo' 'fosforo' 'fuego' 'hermana' 'hijo'\n",
      " 'inconsciente' 'llavecarro' 'madre' 'mi' 'muerto' 'nacerbebe' 'nopermiso'\n",
      " 'padre' 'personaacostada' 'pistola' 'talar' 'tener' 'tio' 'vecino'\n",
      " 'veneno' 'violento' 'vomitar' 'yo'] \n",
      "\n",
      "[ 0  0  0  0  0  0  0  0  0  0  0  0  0  0  0  0  0  0  1  1  1  1  1  1\n",
      "  1  1  1  1  1  1  1  1  1  1  1  1  2  2  2  2  2  2  2  2  2  2  2  2\n",
      "  2  2  2  2  2  2  3  3  3  3  3  3  3  3  3  3  3  3  3  3  3  3  3  3\n",
      "  4  4  4  4  4  4  4  4  4  4  4  4  4  4  4  4  4  4  5  5  5  5  5  5\n",
      "  5  5  5  5  5  5  5  5  5  5  5  5  6  6  6  6  6  6  6  6  6  6  6  6\n",
      "  6  6  6  6  6  6  7  7  7  7  7  7  7  7  7  7  7  7  7  7  7  7  7  7\n",
      "  8  8  8  8  8  8  8  8  8  8  8  8  8  8  8  8  8  8  9  9  9  9  9  9\n",
      "  9  9  9  9  9  9  9  9  9  9  9  9 10 10 10 10 10 10 10 10 10 10 10 10\n",
      " 10 10 10 10 10 10 11 11 11 11 11 11 11 11 11 11 11 11 12 12 12 12 12 12\n",
      " 12 12 12 12 12 12 12 12 12 12 12 12 13 13 13 13 13 13 13 13 13 13 13 13\n",
      " 13 13 13 13 13 13 14 14 14 14 14 14 14 14 14 14 14 14 14 14 14 14 14 14\n",
      " 15 15 15 15 15 15 15 15 15 15 15 15 15 15 15 15 15 15 16 16 16 16 16 16\n",
      " 16 16 16 16 16 16 16 16 16 16 16 16 17 17 17 17 17 17 17 17 17 17 17 17\n",
      " 18 18 18 18 18 18 18 18 18 18 18 18 18 18 18 18 18 18 19 19 19 19 19 19\n",
      " 19 19 19 19 19 19 19 19 19 19 19 19 20 20 20 20 20 20 20 20 20 20 20 20\n",
      " 20 20 20 20 20 20 21 21 21 21 21 21 21 21 21 21 21 21 22 22 22 22 22 22\n",
      " 22 22 22 22 22 22 22 22 22 22 22 22 23 23 23 23 23 23 23 23 23 23 23 23\n",
      " 23 23 23 23 23 23 24 24 24 24 24 24 24 24 24 24 24 24 24 24 24 24 24 24\n",
      " 25 25 25 25 25 25 25 25 25 25 25 25 25 25 25 25 25 25 26 26 26 26 26 26\n",
      " 26 26 26 26 26 26 27 27 27 27 27 27 27 27 27 27 27 27 28 28 28 28 28 28\n",
      " 28 28 28 28 28 28 28 28 28 28 28 28 29 29 29 29 29 29 29 29 29 29 29 29\n",
      " 29 29 29 29 29 29 30 30 30 30 30 30 30 30 30 30 30 30 30 30 30 30 30 30\n",
      " 31 31 31 31 31 31 31 31 31 31 31 31 31 31 31 31 31 31 32 32 32 32 32 32\n",
      " 32 32 32 32 32 32 32 32 32 32 32 32 33 33 33 33 33 33 33 33 33 33 33 33\n",
      " 34 34 34 34 34 34 34 34 34 34 34 34 34 34 34 34 34 34 35 35 35 35 35 35\n",
      " 35 35 35 35 35 35 35 35 35 35 35 35 36 36 36 36 36 36 36 36 36 36 36 36\n",
      " 37 37 37 37 37 37 37 37 37 37 37 37 38 38 38 38 38 38 38 38 38 38 38 38\n",
      " 38 38 38 38 38 38]\n"
     ]
    }
   ],
   "source": [
    "from sklearn import preprocessing\n",
    "\n",
    "le = preprocessing.LabelEncoder()\n",
    "le.fit(labels)\n",
    "\n",
    "print(\"Classes\",le.classes_, \"\\n\")\n",
    "\n",
    "labels_encoded = le.transform(labels)\n",
    "\n",
    "print(labels_encoded)"
   ]
  },
  {
   "cell_type": "markdown",
   "id": "b0ec1245",
   "metadata": {},
   "source": [
    "## Convert dataset to tensor (x, 50, 1)"
   ]
  },
  {
   "cell_type": "code",
   "execution_count": 4,
   "id": "12ec8f06",
   "metadata": {},
   "outputs": [
    {
     "data": {
      "text/plain": [
       "(654, 50, 1)"
      ]
     },
     "execution_count": 4,
     "metadata": {},
     "output_type": "execute_result"
    }
   ],
   "source": [
    "padding_size = 50\n",
    "\n",
    "for i in range(0,len(videos)):\n",
    "    videos[i].extend([0] * (padding_size - len(videos[i])))\n",
    "    \n",
    "    \n",
    "videos_tensor = []\n",
    "for video in videos:\n",
    "    videos_tensor.append(np.array(list(video)).reshape(-1,1))\n",
    "    \n",
    "videos_tensor = np.array(videos_tensor)\n",
    "videos_tensor.shape"
   ]
  },
  {
   "cell_type": "markdown",
   "id": "e7204c78",
   "metadata": {},
   "source": [
    "## Training and test set split"
   ]
  },
  {
   "cell_type": "code",
   "execution_count": 5,
   "id": "4bbf1474",
   "metadata": {},
   "outputs": [
    {
     "name": "stdout",
     "output_type": "stream",
     "text": [
      "Training 523\n",
      "Training 131\n"
     ]
    }
   ],
   "source": [
    "X_train, X_test, y_train, y_test = train_test_split(videos_tensor, labels_encoded, test_size=0.20, random_state=43)\n",
    "\n",
    "print(\"Training\", len(X_train))\n",
    "print(\"Training\", len(X_test))"
   ]
  },
  {
   "cell_type": "code",
   "execution_count": 6,
   "id": "9cbcc4eb",
   "metadata": {},
   "outputs": [
    {
     "data": {
      "text/plain": [
       "(523, 1)"
      ]
     },
     "execution_count": 6,
     "metadata": {},
     "output_type": "execute_result"
    }
   ],
   "source": [
    "y_train = np.array(y_train).reshape(-1,1)\n",
    "y_test = np.array(y_test).reshape(-1,1)\n",
    "\n",
    "y_train.shape"
   ]
  },
  {
   "cell_type": "markdown",
   "id": "b25feedf",
   "metadata": {},
   "source": [
    "# Machine Learning Models (LSTM)"
   ]
  },
  {
   "cell_type": "code",
   "execution_count": 39,
   "id": "e2d696cb",
   "metadata": {},
   "outputs": [
    {
     "name": "stdout",
     "output_type": "stream",
     "text": [
      "Model: \"sequential_19\"\n",
      "_________________________________________________________________\n",
      "Layer (type)                 Output Shape              Param #   \n",
      "=================================================================\n",
      "lstm_35 (LSTM)               (None, 50, 30)            3840      \n",
      "_________________________________________________________________\n",
      "lstm_36 (LSTM)               (None, 50, 20)            4080      \n",
      "_________________________________________________________________\n",
      "flatten_9 (Flatten)          (None, 1000)              0         \n",
      "_________________________________________________________________\n",
      "dropout_12 (Dropout)         (None, 1000)              0         \n",
      "_________________________________________________________________\n",
      "dense_34 (Dense)             (None, 128)               128128    \n",
      "_________________________________________________________________\n",
      "dense_35 (Dense)             (None, 39)                5031      \n",
      "=================================================================\n",
      "Total params: 141,079\n",
      "Trainable params: 141,079\n",
      "Non-trainable params: 0\n",
      "_________________________________________________________________\n",
      "Epoch 1/100\n",
      "17/17 [==============================] - 3s 43ms/step - loss: 3.6584 - accuracy: 0.0306 - val_loss: 3.6372 - val_accuracy: 0.0611\n",
      "Epoch 2/100\n",
      "17/17 [==============================] - 0s 9ms/step - loss: 3.5674 - accuracy: 0.0554 - val_loss: 3.6029 - val_accuracy: 0.0840\n",
      "Epoch 3/100\n",
      "17/17 [==============================] - 0s 9ms/step - loss: 3.4700 - accuracy: 0.0841 - val_loss: 3.6321 - val_accuracy: 0.0840\n",
      "Epoch 4/100\n",
      "17/17 [==============================] - 0s 9ms/step - loss: 3.4083 - accuracy: 0.0899 - val_loss: 3.6401 - val_accuracy: 0.0687\n",
      "Epoch 5/100\n",
      "17/17 [==============================] - 0s 9ms/step - loss: 3.3632 - accuracy: 0.0880 - val_loss: 3.6388 - val_accuracy: 0.0687\n",
      "Epoch 6/100\n",
      "17/17 [==============================] - 0s 9ms/step - loss: 3.2994 - accuracy: 0.1377 - val_loss: 3.6473 - val_accuracy: 0.0763\n",
      "Epoch 7/100\n",
      "17/17 [==============================] - 0s 9ms/step - loss: 3.2426 - accuracy: 0.1625 - val_loss: 3.6094 - val_accuracy: 0.0916\n",
      "Epoch 8/100\n",
      "17/17 [==============================] - 0s 9ms/step - loss: 3.1621 - accuracy: 0.1625 - val_loss: 3.6345 - val_accuracy: 0.0992\n",
      "Epoch 9/100\n",
      "17/17 [==============================] - 0s 9ms/step - loss: 3.1158 - accuracy: 0.1816 - val_loss: 3.4665 - val_accuracy: 0.1374\n",
      "Epoch 10/100\n",
      "17/17 [==============================] - 0s 9ms/step - loss: 3.0176 - accuracy: 0.2046 - val_loss: 3.4495 - val_accuracy: 0.1527\n",
      "Epoch 11/100\n",
      "17/17 [==============================] - 0s 9ms/step - loss: 2.8947 - accuracy: 0.2161 - val_loss: 3.3988 - val_accuracy: 0.1679\n",
      "Epoch 12/100\n",
      "17/17 [==============================] - 0s 9ms/step - loss: 2.7763 - accuracy: 0.2658 - val_loss: 3.3421 - val_accuracy: 0.1832\n",
      "Epoch 13/100\n",
      "17/17 [==============================] - 0s 9ms/step - loss: 2.7046 - accuracy: 0.2543 - val_loss: 3.3432 - val_accuracy: 0.1832\n",
      "Epoch 14/100\n",
      "17/17 [==============================] - 0s 9ms/step - loss: 2.6060 - accuracy: 0.2811 - val_loss: 3.2524 - val_accuracy: 0.2214\n",
      "Epoch 15/100\n",
      "17/17 [==============================] - 0s 9ms/step - loss: 2.5091 - accuracy: 0.3136 - val_loss: 3.2295 - val_accuracy: 0.2137\n",
      "Epoch 16/100\n",
      "17/17 [==============================] - 0s 9ms/step - loss: 2.4551 - accuracy: 0.3136 - val_loss: 3.1283 - val_accuracy: 0.2366\n",
      "Epoch 17/100\n",
      "17/17 [==============================] - 0s 9ms/step - loss: 2.3310 - accuracy: 0.3690 - val_loss: 3.1564 - val_accuracy: 0.2595\n",
      "Epoch 18/100\n",
      "17/17 [==============================] - 0s 9ms/step - loss: 2.2412 - accuracy: 0.3652 - val_loss: 3.1510 - val_accuracy: 0.2519\n",
      "Epoch 19/100\n",
      "17/17 [==============================] - 0s 9ms/step - loss: 2.0986 - accuracy: 0.3996 - val_loss: 3.0505 - val_accuracy: 0.2366\n",
      "Epoch 20/100\n",
      "17/17 [==============================] - 0s 9ms/step - loss: 2.0243 - accuracy: 0.4111 - val_loss: 3.0967 - val_accuracy: 0.2824\n",
      "Epoch 21/100\n",
      "17/17 [==============================] - 0s 9ms/step - loss: 1.9020 - accuracy: 0.4512 - val_loss: 3.0417 - val_accuracy: 0.2824\n",
      "Epoch 22/100\n",
      "17/17 [==============================] - 0s 9ms/step - loss: 1.8364 - accuracy: 0.4742 - val_loss: 3.0979 - val_accuracy: 0.2748\n",
      "Epoch 23/100\n",
      "17/17 [==============================] - 0s 9ms/step - loss: 1.7608 - accuracy: 0.4876 - val_loss: 3.0115 - val_accuracy: 0.2901\n",
      "Epoch 24/100\n",
      "17/17 [==============================] - 0s 9ms/step - loss: 1.6956 - accuracy: 0.4990 - val_loss: 2.9694 - val_accuracy: 0.2977\n",
      "Epoch 25/100\n",
      "17/17 [==============================] - 0s 9ms/step - loss: 1.6703 - accuracy: 0.5067 - val_loss: 2.9514 - val_accuracy: 0.2901\n",
      "Epoch 26/100\n",
      "17/17 [==============================] - 0s 10ms/step - loss: 1.6065 - accuracy: 0.5373 - val_loss: 2.9874 - val_accuracy: 0.3359\n",
      "Epoch 27/100\n",
      "17/17 [==============================] - 0s 10ms/step - loss: 1.4864 - accuracy: 0.5507 - val_loss: 2.9905 - val_accuracy: 0.3588\n",
      "Epoch 28/100\n",
      "17/17 [==============================] - 0s 9ms/step - loss: 1.4483 - accuracy: 0.5488 - val_loss: 2.8927 - val_accuracy: 0.4122\n",
      "Epoch 29/100\n",
      "17/17 [==============================] - 0s 9ms/step - loss: 1.3745 - accuracy: 0.5889 - val_loss: 2.9700 - val_accuracy: 0.3740\n",
      "Epoch 30/100\n",
      "17/17 [==============================] - 0s 9ms/step - loss: 1.3229 - accuracy: 0.6099 - val_loss: 2.8622 - val_accuracy: 0.4046\n",
      "Epoch 31/100\n",
      "17/17 [==============================] - 0s 9ms/step - loss: 1.2552 - accuracy: 0.6195 - val_loss: 2.8880 - val_accuracy: 0.4122\n",
      "Epoch 32/100\n",
      "17/17 [==============================] - 0s 9ms/step - loss: 1.1443 - accuracy: 0.6635 - val_loss: 2.9319 - val_accuracy: 0.3664\n",
      "Epoch 33/100\n",
      "17/17 [==============================] - 0s 10ms/step - loss: 1.0820 - accuracy: 0.6902 - val_loss: 2.8956 - val_accuracy: 0.4427\n",
      "Epoch 34/100\n",
      "17/17 [==============================] - 0s 10ms/step - loss: 1.0308 - accuracy: 0.6769 - val_loss: 2.8791 - val_accuracy: 0.4504\n",
      "Epoch 35/100\n",
      "17/17 [==============================] - 0s 9ms/step - loss: 1.0178 - accuracy: 0.6750 - val_loss: 2.9604 - val_accuracy: 0.4427\n",
      "Epoch 36/100\n",
      "17/17 [==============================] - 0s 9ms/step - loss: 0.9641 - accuracy: 0.7132 - val_loss: 2.9497 - val_accuracy: 0.4351\n",
      "Epoch 37/100\n",
      "17/17 [==============================] - 0s 9ms/step - loss: 0.9861 - accuracy: 0.6807 - val_loss: 2.9879 - val_accuracy: 0.4275\n",
      "Epoch 38/100\n",
      "17/17 [==============================] - 0s 9ms/step - loss: 0.8836 - accuracy: 0.7285 - val_loss: 2.9923 - val_accuracy: 0.4427\n",
      "Epoch 39/100\n",
      "17/17 [==============================] - 0s 9ms/step - loss: 0.8368 - accuracy: 0.7572 - val_loss: 2.9551 - val_accuracy: 0.4122\n",
      "Epoch 40/100\n",
      "17/17 [==============================] - 0s 9ms/step - loss: 0.8246 - accuracy: 0.7400 - val_loss: 3.0107 - val_accuracy: 0.4656\n",
      "Epoch 41/100\n",
      "17/17 [==============================] - 0s 9ms/step - loss: 0.7162 - accuracy: 0.7763 - val_loss: 2.9916 - val_accuracy: 0.4885\n",
      "Epoch 42/100\n",
      "17/17 [==============================] - 0s 9ms/step - loss: 0.6889 - accuracy: 0.7992 - val_loss: 2.9693 - val_accuracy: 0.4809\n",
      "Epoch 43/100\n",
      "17/17 [==============================] - 0s 9ms/step - loss: 0.6744 - accuracy: 0.8088 - val_loss: 3.0791 - val_accuracy: 0.4351\n",
      "Epoch 44/100\n",
      "17/17 [==============================] - 0s 9ms/step - loss: 0.6601 - accuracy: 0.7954 - val_loss: 2.9933 - val_accuracy: 0.4809\n",
      "Epoch 45/100\n",
      "17/17 [==============================] - 0s 9ms/step - loss: 0.6060 - accuracy: 0.8031 - val_loss: 2.9522 - val_accuracy: 0.4885\n",
      "Epoch 46/100\n",
      "17/17 [==============================] - 0s 9ms/step - loss: 0.5483 - accuracy: 0.8088 - val_loss: 3.0135 - val_accuracy: 0.4962\n",
      "Epoch 47/100\n",
      "17/17 [==============================] - 0s 9ms/step - loss: 0.5441 - accuracy: 0.8337 - val_loss: 3.0806 - val_accuracy: 0.4809\n",
      "Epoch 48/100\n",
      "17/17 [==============================] - 0s 9ms/step - loss: 0.4777 - accuracy: 0.8451 - val_loss: 3.1328 - val_accuracy: 0.4351\n",
      "Epoch 49/100\n",
      "17/17 [==============================] - 0s 9ms/step - loss: 0.5226 - accuracy: 0.8184 - val_loss: 2.9919 - val_accuracy: 0.4656\n",
      "Epoch 50/100\n"
     ]
    },
    {
     "name": "stdout",
     "output_type": "stream",
     "text": [
      "17/17 [==============================] - 0s 9ms/step - loss: 0.5111 - accuracy: 0.8337 - val_loss: 3.0451 - val_accuracy: 0.4885\n",
      "Epoch 51/100\n",
      "17/17 [==============================] - 0s 9ms/step - loss: 0.4335 - accuracy: 0.8719 - val_loss: 3.1822 - val_accuracy: 0.4885\n",
      "Epoch 52/100\n",
      "17/17 [==============================] - 0s 9ms/step - loss: 0.4344 - accuracy: 0.8681 - val_loss: 3.1990 - val_accuracy: 0.4733\n",
      "Epoch 53/100\n",
      "17/17 [==============================] - 0s 9ms/step - loss: 0.4410 - accuracy: 0.8489 - val_loss: 3.1750 - val_accuracy: 0.4809\n",
      "Epoch 54/100\n",
      "17/17 [==============================] - 0s 9ms/step - loss: 0.4451 - accuracy: 0.8528 - val_loss: 3.1659 - val_accuracy: 0.4656\n",
      "Epoch 55/100\n",
      "17/17 [==============================] - 0s 9ms/step - loss: 0.3507 - accuracy: 0.8987 - val_loss: 3.1711 - val_accuracy: 0.5038\n",
      "Epoch 56/100\n",
      "17/17 [==============================] - 0s 9ms/step - loss: 0.3859 - accuracy: 0.8662 - val_loss: 3.1700 - val_accuracy: 0.4809\n",
      "Epoch 57/100\n",
      "17/17 [==============================] - 0s 9ms/step - loss: 0.3399 - accuracy: 0.8853 - val_loss: 3.2252 - val_accuracy: 0.4885\n",
      "Epoch 58/100\n",
      "17/17 [==============================] - 0s 9ms/step - loss: 0.3265 - accuracy: 0.8987 - val_loss: 3.3044 - val_accuracy: 0.4962\n",
      "Epoch 59/100\n",
      "17/17 [==============================] - 0s 9ms/step - loss: 0.2989 - accuracy: 0.9006 - val_loss: 3.2316 - val_accuracy: 0.4885\n",
      "Epoch 60/100\n",
      "17/17 [==============================] - 0s 9ms/step - loss: 0.2731 - accuracy: 0.9178 - val_loss: 3.2777 - val_accuracy: 0.4809\n",
      "Epoch 61/100\n",
      "17/17 [==============================] - 0s 9ms/step - loss: 0.2707 - accuracy: 0.9197 - val_loss: 3.2743 - val_accuracy: 0.4733\n",
      "Epoch 62/100\n",
      "17/17 [==============================] - 0s 9ms/step - loss: 0.2567 - accuracy: 0.9235 - val_loss: 3.3748 - val_accuracy: 0.5191\n",
      "Epoch 63/100\n",
      "17/17 [==============================] - 0s 9ms/step - loss: 0.2374 - accuracy: 0.9331 - val_loss: 3.3023 - val_accuracy: 0.4962\n",
      "Epoch 64/100\n",
      "17/17 [==============================] - 0s 9ms/step - loss: 0.2203 - accuracy: 0.9293 - val_loss: 3.3463 - val_accuracy: 0.5038\n",
      "Epoch 65/100\n",
      "17/17 [==============================] - 0s 9ms/step - loss: 0.2114 - accuracy: 0.9446 - val_loss: 3.3776 - val_accuracy: 0.4962\n",
      "Epoch 66/100\n",
      "17/17 [==============================] - 0s 9ms/step - loss: 0.2424 - accuracy: 0.9197 - val_loss: 3.3739 - val_accuracy: 0.4885\n",
      "Epoch 67/100\n",
      "17/17 [==============================] - 0s 9ms/step - loss: 0.2043 - accuracy: 0.9407 - val_loss: 3.3167 - val_accuracy: 0.4885\n",
      "Epoch 68/100\n",
      "17/17 [==============================] - 0s 9ms/step - loss: 0.2140 - accuracy: 0.9312 - val_loss: 3.6486 - val_accuracy: 0.4351\n",
      "Epoch 69/100\n",
      "17/17 [==============================] - 0s 9ms/step - loss: 0.2769 - accuracy: 0.9140 - val_loss: 3.4851 - val_accuracy: 0.4885\n",
      "Epoch 70/100\n",
      "17/17 [==============================] - 0s 9ms/step - loss: 0.2457 - accuracy: 0.9159 - val_loss: 3.3398 - val_accuracy: 0.4885\n",
      "Epoch 71/100\n",
      "17/17 [==============================] - 0s 9ms/step - loss: 0.2049 - accuracy: 0.9350 - val_loss: 3.4503 - val_accuracy: 0.5115\n",
      "Epoch 72/100\n",
      "17/17 [==============================] - 0s 9ms/step - loss: 0.1723 - accuracy: 0.9522 - val_loss: 3.4909 - val_accuracy: 0.5344\n",
      "Epoch 73/100\n",
      "17/17 [==============================] - 0s 9ms/step - loss: 0.1553 - accuracy: 0.9560 - val_loss: 3.5785 - val_accuracy: 0.5115\n",
      "Epoch 74/100\n",
      "17/17 [==============================] - 0s 9ms/step - loss: 0.1464 - accuracy: 0.9637 - val_loss: 3.6866 - val_accuracy: 0.5267\n",
      "Epoch 75/100\n",
      "17/17 [==============================] - 0s 9ms/step - loss: 0.1786 - accuracy: 0.9503 - val_loss: 3.4596 - val_accuracy: 0.4962\n",
      "Epoch 76/100\n",
      "17/17 [==============================] - 0s 9ms/step - loss: 0.1696 - accuracy: 0.9560 - val_loss: 3.5389 - val_accuracy: 0.5191\n",
      "Epoch 77/100\n",
      "17/17 [==============================] - 0s 9ms/step - loss: 0.1546 - accuracy: 0.9522 - val_loss: 3.5951 - val_accuracy: 0.5344\n",
      "Epoch 78/100\n",
      "17/17 [==============================] - 0s 9ms/step - loss: 0.1375 - accuracy: 0.9598 - val_loss: 3.5761 - val_accuracy: 0.5115\n",
      "Epoch 79/100\n",
      "17/17 [==============================] - 0s 9ms/step - loss: 0.1290 - accuracy: 0.9618 - val_loss: 3.5946 - val_accuracy: 0.5115\n",
      "Epoch 80/100\n",
      "17/17 [==============================] - 0s 9ms/step - loss: 0.1220 - accuracy: 0.9618 - val_loss: 3.6431 - val_accuracy: 0.5267\n",
      "Epoch 81/100\n",
      "17/17 [==============================] - 0s 9ms/step - loss: 0.1368 - accuracy: 0.9618 - val_loss: 3.5877 - val_accuracy: 0.4962\n",
      "Epoch 82/100\n",
      "17/17 [==============================] - 0s 9ms/step - loss: 0.1225 - accuracy: 0.9656 - val_loss: 3.6882 - val_accuracy: 0.5115\n",
      "Epoch 83/100\n",
      "17/17 [==============================] - 0s 9ms/step - loss: 0.1038 - accuracy: 0.9675 - val_loss: 3.7352 - val_accuracy: 0.5115\n",
      "Epoch 84/100\n",
      "17/17 [==============================] - 0s 9ms/step - loss: 0.0995 - accuracy: 0.9751 - val_loss: 3.6995 - val_accuracy: 0.5344\n",
      "Epoch 85/100\n",
      "17/17 [==============================] - 0s 9ms/step - loss: 0.1100 - accuracy: 0.9713 - val_loss: 3.7558 - val_accuracy: 0.5038\n",
      "Epoch 86/100\n",
      "17/17 [==============================] - 0s 9ms/step - loss: 0.0793 - accuracy: 0.9771 - val_loss: 3.6436 - val_accuracy: 0.5191\n",
      "Epoch 87/100\n",
      "17/17 [==============================] - 0s 9ms/step - loss: 0.0695 - accuracy: 0.9809 - val_loss: 3.7765 - val_accuracy: 0.5191\n",
      "Epoch 88/100\n",
      "17/17 [==============================] - 0s 9ms/step - loss: 0.1044 - accuracy: 0.9694 - val_loss: 3.7044 - val_accuracy: 0.5344\n",
      "Epoch 89/100\n",
      "17/17 [==============================] - 0s 9ms/step - loss: 0.0913 - accuracy: 0.9771 - val_loss: 3.6678 - val_accuracy: 0.5115\n",
      "Epoch 90/100\n",
      "17/17 [==============================] - 0s 9ms/step - loss: 0.0776 - accuracy: 0.9771 - val_loss: 3.8027 - val_accuracy: 0.5344\n",
      "Epoch 91/100\n",
      "17/17 [==============================] - 0s 9ms/step - loss: 0.0761 - accuracy: 0.9828 - val_loss: 3.8499 - val_accuracy: 0.5115\n",
      "Epoch 92/100\n",
      "17/17 [==============================] - 0s 9ms/step - loss: 0.1143 - accuracy: 0.9656 - val_loss: 3.6201 - val_accuracy: 0.5038\n",
      "Epoch 93/100\n",
      "17/17 [==============================] - 0s 9ms/step - loss: 0.1155 - accuracy: 0.9598 - val_loss: 3.7019 - val_accuracy: 0.5420\n",
      "Epoch 94/100\n",
      "17/17 [==============================] - 0s 9ms/step - loss: 0.0809 - accuracy: 0.9828 - val_loss: 3.7485 - val_accuracy: 0.5267\n",
      "Epoch 95/100\n",
      "17/17 [==============================] - 0s 9ms/step - loss: 0.0793 - accuracy: 0.9828 - val_loss: 3.8326 - val_accuracy: 0.5267\n",
      "Epoch 96/100\n",
      "17/17 [==============================] - 0s 9ms/step - loss: 0.0588 - accuracy: 0.9924 - val_loss: 3.8986 - val_accuracy: 0.5191\n",
      "Epoch 97/100\n",
      "17/17 [==============================] - 0s 9ms/step - loss: 0.0834 - accuracy: 0.9732 - val_loss: 3.8213 - val_accuracy: 0.5267\n",
      "Epoch 98/100\n",
      "17/17 [==============================] - 0s 9ms/step - loss: 0.0858 - accuracy: 0.9790 - val_loss: 3.9425 - val_accuracy: 0.5344\n",
      "Epoch 99/100\n",
      "17/17 [==============================] - 0s 9ms/step - loss: 0.0758 - accuracy: 0.9847 - val_loss: 3.8818 - val_accuracy: 0.5267\n",
      "Epoch 100/100\n",
      "17/17 [==============================] - 0s 9ms/step - loss: 0.0782 - accuracy: 0.9732 - val_loss: 3.8755 - val_accuracy: 0.5115\n"
     ]
    }
   ],
   "source": [
    "model = tf.keras.models.Sequential([\n",
    "  # ===============================\n",
    "  tf.keras.layers.LSTM(30, return_sequences = True, input_shape=[50,1]),\n",
    "  tf.keras.layers.LSTM(20, return_sequences = True),  \n",
    "  # ===============================\n",
    "  tf.keras.layers.Flatten(),\n",
    "  tf.keras.layers.Dropout(0.5),\n",
    "  tf.keras.layers.Dense(128, activation='selu'),\n",
    "  tf.keras.layers.Dense(39, activation='softmax')\n",
    "])\n",
    "\n",
    "model.compile(optimizer='adam', loss='sparse_categorical_crossentropy', metrics=['accuracy'])\n",
    "model.summary()\n",
    "\n",
    "history = model.fit(X_train, y_train, epochs=100, verbose=1,  validation_data=(X_test, y_test))"
   ]
  },
  {
   "cell_type": "code",
   "execution_count": 40,
   "id": "5c78ce48",
   "metadata": {},
   "outputs": [
    {
     "data": {
      "image/png": "[encoded data removed]",
      "text/plain": [
       "<Figure size 432x288 with 1 Axes>"
      ]
     },
     "metadata": {
      "needs_background": "light"
     },
     "output_type": "display_data"
    },
    {
     "data": {
      "image/png": "[encoded data removed]",
      "text/plain": [
       "<Figure size 432x288 with 1 Axes>"
      ]
     },
     "metadata": {
      "needs_background": "light"
     },
     "output_type": "display_data"
    }
   ],
   "source": [
    "import matplotlib.pyplot as plt\n",
    "\n",
    "plt.plot(history.history['accuracy'])\n",
    "plt.plot(history.history['val_accuracy'])\n",
    "plt.title('model accuracy')\n",
    "plt.ylabel('accuracy')\n",
    "plt.xlabel('epoch')\n",
    "plt.legend(['train', 'test'], loc='upper left')\n",
    "plt.show()\n",
    "\n",
    "plt.plot(history.history['loss'])\n",
    "plt.plot(history.history['val_loss'])\n",
    "plt.title('model loss')\n",
    "plt.ylabel('loss')\n",
    "plt.xlabel('epoch')\n",
    "plt.legend(['train', 'test'], loc='upper left')\n",
    "plt.show()"
   ]
  },
  {
   "cell_type": "code",
   "execution_count": null,
   "id": "16279c4b",
   "metadata": {},
   "outputs": [],
   "source": [
    "# train set acc: 97%, test set acc: 51%, there is overfitting over the training set."
   ]
  }
 ],
 "metadata": {
  "kernelspec": {
   "display_name": "Python 3 (ipykernel)",
   "language": "python",
   "name": "python3"
  },
  "language_info": {
   "codemirror_mode": {
    "name": "ipython",
    "version": 3
   },
   "file_extension": ".py",
   "mimetype": "text/x-python",
   "name": "python",
   "nbconvert_exporter": "python",
   "pygments_lexer": "ipython3",
   "version": "3.9.10"
  }
 },
 "nbformat": 4,
 "nbformat_minor": 5
}
