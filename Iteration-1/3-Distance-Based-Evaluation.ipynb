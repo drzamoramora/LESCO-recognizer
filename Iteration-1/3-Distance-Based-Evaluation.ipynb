{
 "cells": [
  {
   "cell_type": "markdown",
   "id": "6af3d70d",
   "metadata": {},
   "source": [
    "## LESCO Distance-Based Evaluation"
   ]
  },
  {
   "cell_type": "code",
   "execution_count": 1,
   "id": "083a35a5",
   "metadata": {},
   "outputs": [],
   "source": [
    "import csv\n",
    "import numpy as np\n",
    "from sklearn.model_selection import train_test_split\n",
    "import keras\n",
    "import tensorflow as tf\n",
    "from scipy import spatial # cosine similarity\n",
    "import pandas as pd\n",
    "from scipy.spatial import distance"
   ]
  },
  {
   "cell_type": "code",
   "execution_count": 2,
   "id": "e7ca7ab4",
   "metadata": {},
   "outputs": [],
   "source": [
    "# load all pre-proceesed videos.\n",
    "videos = []\n",
    "with open(\"videos.csv\", \"r\") as f:\n",
    "    reader = csv.reader(f, delimiter=\"\\t\")\n",
    "    for i, line in enumerate(reader):\n",
    "        video = [float(x) for x in line[0].split(',')]\n",
    "        videos.append(video)\n",
    "        \n",
    "labels = []\n",
    "with open(\"labels.csv\", \"r\") as f:\n",
    "    reader = csv.reader(f, delimiter=\"\\t\")\n",
    "    for i, line in enumerate(reader):\n",
    "        labels = [x.replace(\"'\",\"\").replace('\"',\"\") for x in line[0].split(',')]\n"
   ]
  },
  {
   "cell_type": "code",
   "execution_count": 3,
   "id": "145f992c",
   "metadata": {},
   "outputs": [
    {
     "name": "stdout",
     "output_type": "stream",
     "text": [
      "Training 523\n",
      "Training 131\n"
     ]
    }
   ],
   "source": [
    "# test train split\n",
    "X_train, X_test, y_train, y_test = train_test_split(videos, labels, test_size=0.20, random_state=43)\n",
    "\n",
    "print(\"Training\", len(X_train))\n",
    "print(\"Training\", len(X_test))"
   ]
  },
  {
   "cell_type": "markdown",
   "id": "aece4667",
   "metadata": {},
   "source": [
    "## Similarity Functions"
   ]
  },
  {
   "cell_type": "code",
   "execution_count": 4,
   "id": "c7db8cf2",
   "metadata": {},
   "outputs": [
    {
     "data": {
      "text/plain": [
       "'tio'"
      ]
     },
     "execution_count": 4,
     "metadata": {},
     "output_type": "execute_result"
    }
   ],
   "source": [
    "def get_cosine(train_data, test_item, padding = 50):\n",
    "    similarity = []\n",
    "    test_item.extend([0] * (50 - len(test_item)))\n",
    "    for data in train_data:\n",
    "        data.extend([0] * (50 - len(data)))\n",
    "        s = 1 - spatial.distance.cosine(data, test_item)\n",
    "        similarity.append(s)\n",
    "        \n",
    "    \n",
    "    df = pd.DataFrame({\n",
    "        \"y_train\" : y_train,\n",
    "        \"similarity\" : similarity\n",
    "    })\n",
    "    \n",
    "    df = df.sort_values(by=['similarity'], ascending=False)\n",
    "    \n",
    "    return df.iloc[0][\"y_train\"]  # returns most similar class\n",
    "\n",
    "\n",
    "def get_cosine_knn(train_data, test_item, k = 2, padding = 50):\n",
    "    similarity = []\n",
    "    test_item.extend([0] * (50 - len(test_item)))\n",
    "    for data in train_data:\n",
    "        data.extend([0] * (50 - len(data)))\n",
    "        s = 1 - spatial.distance.cosine(data, test_item)\n",
    "        similarity.append(s)\n",
    "        \n",
    "    \n",
    "    df = pd.DataFrame({\n",
    "        \"y_train\" : y_train,\n",
    "        \"similarity\" : similarity\n",
    "    })\n",
    "    \n",
    "    df = df.sort_values(by=['similarity'], ascending=False)\n",
    "    \n",
    "    return df[\"y_train\"]\n",
    "\n",
    "\n",
    "def get_euclidean(train_data, test_item, padding = 50):\n",
    "    similarity = []\n",
    "    test_item.extend([0] * (50 - len(test_item)))\n",
    "    for data in train_data:\n",
    "        data.extend([0] * (50 - len(data)))\n",
    "        s = 1 - np.linalg.norm(np.array(data) - np.array(test_item))\n",
    "        similarity.append(s)\n",
    "        \n",
    "    \n",
    "    df = pd.DataFrame({\n",
    "        \"y_train\" : y_train,\n",
    "        \"similarity\" : similarity\n",
    "    })\n",
    "    \n",
    "    df = df.sort_values(by=['similarity'], ascending=False)\n",
    "    \n",
    "    return df.iloc[0][\"y_train\"]  # returns most similar class\n",
    "\n",
    "\n",
    "def get_manhattan(train_data, test_item, padding = 50):\n",
    "    similarity = []\n",
    "    test_item.extend([0] * (50 - len(test_item)))\n",
    "    for data in train_data:\n",
    "        data.extend([0] * (50 - len(data)))\n",
    "        s = 1 - np.abs(np.array(data) - np.array(test_item)).sum()\n",
    "        similarity.append(s)\n",
    "        \n",
    "    \n",
    "    df = pd.DataFrame({\n",
    "        \"y_train\" : y_train,\n",
    "        \"similarity\" : similarity\n",
    "    })\n",
    "    \n",
    "    df = df.sort_values(by=['similarity'], ascending=False)\n",
    "    \n",
    "    return df.iloc[0][\"y_train\"]  # returns most similar class\n",
    "\n",
    "def get_dotproduct(train_data, test_item, padding = 50):\n",
    "    similarity = []\n",
    "    test_item.extend([0] * (50 - len(test_item)))\n",
    "    for data in train_data:\n",
    "        data.extend([0] * (50 - len(data)))\n",
    "        s = np.dot(np.array(data), np.array(test_item))\n",
    "        similarity.append(s)\n",
    "        \n",
    "    \n",
    "    df = pd.DataFrame({\n",
    "        \"y_train\" : y_train,\n",
    "        \"similarity\" : similarity\n",
    "    })\n",
    "    \n",
    "    df = df.sort_values(by=['similarity'], ascending=False)\n",
    "    \n",
    "    return df.iloc[0][\"y_train\"]  # returns most similar class\n",
    "\n",
    "def get_chebyshev(train_data, test_item, padding = 50):\n",
    "    similarity = []\n",
    "    test_item.extend([0] * (50 - len(test_item)))\n",
    "    for data in train_data:\n",
    "        data.extend([0] * (50 - len(data)))\n",
    "        s =  1 - distance.chebyshev(np.array(data), np.array(test_item))\n",
    "        similarity.append(s)\n",
    "        \n",
    "    \n",
    "    df = pd.DataFrame({\n",
    "        \"y_train\" : y_train,\n",
    "        \"similarity\" : similarity\n",
    "    })\n",
    "    \n",
    "    df = df.sort_values(by=['similarity'], ascending=False)\n",
    "    \n",
    "    return df.iloc[0][\"y_train\"]  # returns most similar class\n",
    "\n",
    "def get_minkowski(train_data, test_item, padding = 50):\n",
    "    similarity = []\n",
    "    test_item.extend([0] * (50 - len(test_item)))\n",
    "    for data in train_data:\n",
    "        data.extend([0] * (50 - len(data)))\n",
    "        s =  1 - distance.minkowski(np.array(data), np.array(test_item))\n",
    "        similarity.append(s)\n",
    "        \n",
    "    df = pd.DataFrame({\n",
    "        \"y_train\" : y_train,\n",
    "        \"similarity\" : similarity\n",
    "    })\n",
    "    \n",
    "    df = df.sort_values(by=['similarity'], ascending=False)\n",
    "    \n",
    "    return df.iloc[0][\"y_train\"]  # returns most similar class\n",
    "\n",
    "\n",
    "# test\n",
    "get_cosine(X_train, X_test[0])  \n",
    "    "
   ]
  },
  {
   "cell_type": "code",
   "execution_count": 7,
   "id": "59d37779",
   "metadata": {},
   "outputs": [
    {
     "data": {
      "text/plain": [
       "50"
      ]
     },
     "execution_count": 7,
     "metadata": {},
     "output_type": "execute_result"
    }
   ],
   "source": []
  },
  {
   "cell_type": "markdown",
   "id": "580e285f",
   "metadata": {},
   "source": [
    "## Test Set Validation"
   ]
  },
  {
   "cell_type": "code",
   "execution_count": 11,
   "id": "98f0edbc",
   "metadata": {},
   "outputs": [
    {
     "name": "stdout",
     "output_type": "stream",
     "text": [
      "Cosine Normal Fn Test Set Accuracy: 0.6\n"
     ]
    }
   ],
   "source": [
    "# normal cosine\n",
    "\n",
    "total = len(X_test)\n",
    "count = 0\n",
    "\n",
    "for test, label in zip(X_test, y_test):\n",
    "    y_pred = get_cosine(X_train, test)\n",
    "    if (y_pred == label):\n",
    "        count = count + 1\n",
    "\n",
    "print(\"Cosine Normal Fn Test Set Accuracy:\", round(count/total,2))\n",
    "    "
   ]
  },
  {
   "cell_type": "code",
   "execution_count": 12,
   "id": "5ff2bf68",
   "metadata": {},
   "outputs": [
    {
     "name": "stdout",
     "output_type": "stream",
     "text": [
      "Cosine KNN Fn Test Set Accuracy: 0.27\n"
     ]
    }
   ],
   "source": [
    "# cosine knn mix\n",
    "\n",
    "def most_common(lst):\n",
    "    return max(set(lst), key=lst.count)\n",
    "\n",
    "total = len(X_test)\n",
    "count = 0\n",
    "\n",
    "for test, label in zip(X_test, y_test):\n",
    "    y_pred = most_common(get_cosine_knn(X_train, test).iloc[:10].to_list())\n",
    "    if (y_pred == label):\n",
    "        count = count + 1\n",
    "\n",
    "print(\"Cosine KNN Fn Test Set Accuracy:\", round(count/total,2))\n"
   ]
  },
  {
   "cell_type": "code",
   "execution_count": 13,
   "id": "ff3d682f",
   "metadata": {},
   "outputs": [
    {
     "name": "stdout",
     "output_type": "stream",
     "text": [
      "Euclidean Normal Fn Test Set Accuracy: 0.59\n"
     ]
    }
   ],
   "source": [
    "total = len(X_test)\n",
    "count = 0\n",
    "\n",
    "for test, label in zip(X_test, y_test):\n",
    "    y_pred = get_euclidean(X_train, test)\n",
    "    if (y_pred == label):\n",
    "        count = count + 1\n",
    "\n",
    "print(\"Euclidean Normal Fn Test Set Accuracy:\", round(count/total,2))"
   ]
  },
  {
   "cell_type": "code",
   "execution_count": 14,
   "id": "87461e01",
   "metadata": {},
   "outputs": [
    {
     "name": "stdout",
     "output_type": "stream",
     "text": [
      "Manhattan Normal Fn Test Set Accuracy: 0.74\n"
     ]
    }
   ],
   "source": [
    "total = len(X_test)\n",
    "count = 0\n",
    "\n",
    "for test, label in zip(X_test, y_test):\n",
    "    y_pred = get_manhattan(X_train, test)\n",
    "    if (y_pred == label):\n",
    "        count = count + 1\n",
    "\n",
    "print(\"Manhattan Normal Fn Test Set Accuracy:\", round(count/total,2))"
   ]
  },
  {
   "cell_type": "code",
   "execution_count": 15,
   "id": "d0b76274",
   "metadata": {},
   "outputs": [
    {
     "name": "stdout",
     "output_type": "stream",
     "text": [
      "Dot Product Fn Test Set Accuracy: 0.21\n"
     ]
    }
   ],
   "source": [
    "total = len(X_test)\n",
    "count = 0\n",
    "\n",
    "for test, label in zip(X_test, y_test):\n",
    "    y_pred = get_dotproduct(X_train, test)\n",
    "    if (y_pred == label):\n",
    "        count = count + 1\n",
    "\n",
    "print(\"Dot Product Fn Test Set Accuracy:\", round(count/total,2))"
   ]
  },
  {
   "cell_type": "code",
   "execution_count": 22,
   "id": "19553cca",
   "metadata": {},
   "outputs": [
    {
     "name": "stdout",
     "output_type": "stream",
     "text": [
      "Chebyshev Fn Test Set Accuracy: 0.29\n"
     ]
    }
   ],
   "source": [
    "total = len(X_test)\n",
    "count = 0\n",
    "\n",
    "for test, label in zip(X_test, y_test):\n",
    "    y_pred = get_chebyshev(X_train, test)\n",
    "    if (y_pred == label):\n",
    "        count = count + 1\n",
    "\n",
    "print(\"Chebyshev Fn Test Set Accuracy:\", round(count/total,2))"
   ]
  },
  {
   "cell_type": "code",
   "execution_count": 30,
   "id": "9516a42b",
   "metadata": {},
   "outputs": [
    {
     "name": "stdout",
     "output_type": "stream",
     "text": [
      "Minkowski Fn Test Set Accuracy: 0.59\n"
     ]
    }
   ],
   "source": [
    "total = len(X_test)\n",
    "count = 0\n",
    "\n",
    "for test, label in zip(X_test, y_test):\n",
    "    y_pred = get_minkowski(X_train, test)\n",
    "    if (y_pred == label):\n",
    "        count = count + 1\n",
    "\n",
    "print(\"Minkowski Fn Test Set Accuracy:\", round(count/total,2))"
   ]
  },
  {
   "cell_type": "markdown",
   "id": "c7b9eba1",
   "metadata": {},
   "source": [
    "## Cross Validation Manhattan\n",
    "cross validation shows that Manhattan is the best similarity measure so far..."
   ]
  },
  {
   "cell_type": "code",
   "execution_count": 33,
   "id": "86f5765c",
   "metadata": {},
   "outputs": [
    {
     "name": "stdout",
     "output_type": "stream",
     "text": [
      "Scores: [0.75, 0.79, 0.79, 0.72, 0.79]\n",
      "Manhattan Cross Validation 0.768\n"
     ]
    }
   ],
   "source": [
    "scores = []\n",
    "for i in range(0,5):\n",
    "    X_train, X_test, y_train, y_test = train_test_split(videos, labels, test_size=0.20)\n",
    "    total = len(X_test)\n",
    "    count = 0\n",
    "    for test, label in zip(X_test, y_test):\n",
    "        y_pred = get_manhattan(X_train, test)\n",
    "        if (y_pred == label):\n",
    "            count = count + 1\n",
    "    scores.append(round(count/total,2))\n",
    "print(\"Scores:\", scores)\n",
    "print(\"Manhattan Cross Validation\", np.mean(scores))\n",
    "    "
   ]
  }
 ],
 "metadata": {
  "kernelspec": {
   "display_name": "Python 3 (ipykernel)",
   "language": "python",
   "name": "python3"
  },
  "language_info": {
   "codemirror_mode": {
    "name": "ipython",
    "version": 3
   },
   "file_extension": ".py",
   "mimetype": "text/x-python",
   "name": "python",
   "nbconvert_exporter": "python",
   "pygments_lexer": "ipython3",
   "version": "3.9.10"
  }
 },
 "nbformat": 4,
 "nbformat_minor": 5
}
