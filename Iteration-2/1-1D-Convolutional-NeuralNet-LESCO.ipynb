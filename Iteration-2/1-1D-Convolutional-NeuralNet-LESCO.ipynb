{
 "cells": [
  {
   "cell_type": "code",
   "execution_count": 1,
   "id": "9f783e46",
   "metadata": {},
   "outputs": [],
   "source": [
    "#import warnings\n",
    "#warnings.filterwarnings('ignore')\n",
    "\n",
    "import csv\n",
    "import numpy as np\n",
    "from sklearn.model_selection import train_test_split\n",
    "import tensorflow as tf\n",
    "import pandas as pd"
   ]
  },
  {
   "cell_type": "markdown",
   "id": "17e46a1f",
   "metadata": {},
   "source": [
    "# Data"
   ]
  },
  {
   "cell_type": "markdown",
   "id": "24ba61d6",
   "metadata": {},
   "source": [
    "## Load data from Iteration 1 csv's"
   ]
  },
  {
   "cell_type": "code",
   "execution_count": 49,
   "id": "23e8e243",
   "metadata": {},
   "outputs": [],
   "source": [
    "# load all pre-proceesed videos.\n",
    "videos = []\n",
    "with open(\"videos.csv\", \"r\") as f:\n",
    "    reader = csv.reader(f, delimiter=\"\\t\")\n",
    "    for i, line in enumerate(reader):\n",
    "        video = [float(x) for x in line[0].split(',')]\n",
    "        videos.append(video)\n",
    "        \n",
    "labels = []\n",
    "with open(\"labels.csv\", \"r\") as f:\n",
    "    reader = csv.reader(f, delimiter=\"\\t\")\n",
    "    for i, line in enumerate(reader):\n",
    "        labels = [x.replace(\"'\",\"\").replace('\"',\"\") for x in line[0].split(',')]"
   ]
  },
  {
   "cell_type": "code",
   "execution_count": 50,
   "id": "ecc4b6eb",
   "metadata": {},
   "outputs": [
    {
     "name": "stdout",
     "output_type": "stream",
     "text": [
      "Classes ['agredir' 'ahi' 'arboles' 'ataquecorazon' 'atropellar' 'basura' 'calle'\n",
      " 'carro' 'casa' 'chocar' 'cocina' 'desmayar' 'dolorestomago' 'ebrio'\n",
      " 'ellos' 'esposa' 'esposo' 'fosforo' 'fuego' 'hermana' 'hijo'\n",
      " 'inconsciente' 'llavecarro' 'madre' 'mi' 'muerto' 'nacerbebe' 'nopermiso'\n",
      " 'padre' 'personaacostada' 'pistola' 'talar' 'tener' 'tio' 'vecino'\n",
      " 'veneno' 'violento' 'vomitar' 'yo'] \n",
      "\n",
      "[ 0  0  0  0  0  0  0  0  0  0  0  0  0  0  0  0  0  0  1  1  1  1  1  1\n",
      "  1  1  1  1  1  1  1  1  1  1  1  1  2  2  2  2  2  2  2  2  2  2  2  2\n",
      "  2  2  2  2  2  2  3  3  3  3  3  3  3  3  3  3  3  3  3  3  3  3  3  3\n",
      "  4  4  4  4  4  4  4  4  4  4  4  4  4  4  4  4  4  4  5  5  5  5  5  5\n",
      "  5  5  5  5  5  5  5  5  5  5  5  5  6  6  6  6  6  6  6  6  6  6  6  6\n",
      "  6  6  6  6  6  6  7  7  7  7  7  7  7  7  7  7  7  7  7  7  7  7  7  7\n",
      "  8  8  8  8  8  8  8  8  8  8  8  8  8  8  8  8  8  8  9  9  9  9  9  9\n",
      "  9  9  9  9  9  9  9  9  9  9  9  9 10 10 10 10 10 10 10 10 10 10 10 10\n",
      " 10 10 10 10 10 10 11 11 11 11 11 11 11 11 11 11 11 11 12 12 12 12 12 12\n",
      " 12 12 12 12 12 12 12 12 12 12 12 12 13 13 13 13 13 13 13 13 13 13 13 13\n",
      " 13 13 13 13 13 13 14 14 14 14 14 14 14 14 14 14 14 14 14 14 14 14 14 14\n",
      " 15 15 15 15 15 15 15 15 15 15 15 15 15 15 15 15 15 15 16 16 16 16 16 16\n",
      " 16 16 16 16 16 16 16 16 16 16 16 16 17 17 17 17 17 17 17 17 17 17 17 17\n",
      " 18 18 18 18 18 18 18 18 18 18 18 18 18 18 18 18 18 18 19 19 19 19 19 19\n",
      " 19 19 19 19 19 19 19 19 19 19 19 19 20 20 20 20 20 20 20 20 20 20 20 20\n",
      " 20 20 20 20 20 20 21 21 21 21 21 21 21 21 21 21 21 21 22 22 22 22 22 22\n",
      " 22 22 22 22 22 22 22 22 22 22 22 22 23 23 23 23 23 23 23 23 23 23 23 23\n",
      " 23 23 23 23 23 23 24 24 24 24 24 24 24 24 24 24 24 24 24 24 24 24 24 24\n",
      " 25 25 25 25 25 25 25 25 25 25 25 25 25 25 25 25 25 25 26 26 26 26 26 26\n",
      " 26 26 26 26 26 26 27 27 27 27 27 27 27 27 27 27 27 27 28 28 28 28 28 28\n",
      " 28 28 28 28 28 28 28 28 28 28 28 28 29 29 29 29 29 29 29 29 29 29 29 29\n",
      " 29 29 29 29 29 29 30 30 30 30 30 30 30 30 30 30 30 30 30 30 30 30 30 30\n",
      " 31 31 31 31 31 31 31 31 31 31 31 31 31 31 31 31 31 31 32 32 32 32 32 32\n",
      " 32 32 32 32 32 32 32 32 32 32 32 32 33 33 33 33 33 33 33 33 33 33 33 33\n",
      " 34 34 34 34 34 34 34 34 34 34 34 34 34 34 34 34 34 34 35 35 35 35 35 35\n",
      " 35 35 35 35 35 35 35 35 35 35 35 35 36 36 36 36 36 36 36 36 36 36 36 36\n",
      " 37 37 37 37 37 37 37 37 37 37 37 37 38 38 38 38 38 38 38 38 38 38 38 38\n",
      " 38 38 38 38 38 38]\n"
     ]
    }
   ],
   "source": [
    "from sklearn import preprocessing\n",
    "\n",
    "le = preprocessing.LabelEncoder()\n",
    "le.fit(labels)\n",
    "\n",
    "print(\"Classes\",le.classes_, \"\\n\")\n",
    "\n",
    "labels_encoded = le.transform(labels)\n",
    "\n",
    "print(labels_encoded)"
   ]
  },
  {
   "cell_type": "markdown",
   "id": "b0ec1245",
   "metadata": {},
   "source": [
    "## Convert dataset to tensor (x, 50, 1)"
   ]
  },
  {
   "cell_type": "code",
   "execution_count": 51,
   "id": "12ec8f06",
   "metadata": {},
   "outputs": [
    {
     "data": {
      "text/plain": [
       "(654, 50, 1)"
      ]
     },
     "execution_count": 51,
     "metadata": {},
     "output_type": "execute_result"
    }
   ],
   "source": [
    "padding_size = 50\n",
    "\n",
    "for i in range(0,len(videos)):\n",
    "    videos[i].extend([0] * (padding_size - len(videos[i])))\n",
    "    \n",
    "    \n",
    "videos_tensor = []\n",
    "for video in videos:\n",
    "    videos_tensor.append(np.array(list(video)).reshape(-1,1))\n",
    "    \n",
    "videos_tensor = np.array(videos_tensor)\n",
    "videos_tensor.shape"
   ]
  },
  {
   "cell_type": "markdown",
   "id": "e7204c78",
   "metadata": {},
   "source": [
    "## Training and test set split"
   ]
  },
  {
   "cell_type": "code",
   "execution_count": 52,
   "id": "4bbf1474",
   "metadata": {},
   "outputs": [
    {
     "name": "stdout",
     "output_type": "stream",
     "text": [
      "Training 523\n",
      "Training 131\n"
     ]
    }
   ],
   "source": [
    "X_train, X_test, y_train, y_test = train_test_split(videos_tensor, labels_encoded, test_size=0.20, random_state=43)\n",
    "\n",
    "print(\"Training\", len(X_train))\n",
    "print(\"Training\", len(X_test))"
   ]
  },
  {
   "cell_type": "code",
   "execution_count": 53,
   "id": "9cbcc4eb",
   "metadata": {},
   "outputs": [
    {
     "data": {
      "text/plain": [
       "(523, 1)"
      ]
     },
     "execution_count": 53,
     "metadata": {},
     "output_type": "execute_result"
    }
   ],
   "source": [
    "y_train = np.array(y_train).reshape(-1,1)\n",
    "y_test = np.array(y_test).reshape(-1,1)\n",
    "\n",
    "y_train.shape"
   ]
  },
  {
   "cell_type": "markdown",
   "id": "b25feedf",
   "metadata": {},
   "source": [
    "# Machine Learning Models (CNNs)"
   ]
  },
  {
   "cell_type": "code",
   "execution_count": 118,
   "id": "e2d696cb",
   "metadata": {},
   "outputs": [
    {
     "name": "stdout",
     "output_type": "stream",
     "text": [
      "Model: \"sequential_43\"\n",
      "_________________________________________________________________\n",
      "Layer (type)                 Output Shape              Param #   \n",
      "=================================================================\n",
      "conv1d_96 (Conv1D)           (None, 50, 8)             16        \n",
      "_________________________________________________________________\n",
      "max_pooling1d_49 (MaxPooling (None, 50, 8)             0         \n",
      "_________________________________________________________________\n",
      "conv1d_97 (Conv1D)           (None, 50, 16)            144       \n",
      "_________________________________________________________________\n",
      "conv1d_98 (Conv1D)           (None, 50, 32)            544       \n",
      "_________________________________________________________________\n",
      "flatten_43 (Flatten)         (None, 1600)              0         \n",
      "_________________________________________________________________\n",
      "dropout_6 (Dropout)          (None, 1600)              0         \n",
      "_________________________________________________________________\n",
      "dense_111 (Dense)            (None, 100)               160100    \n",
      "_________________________________________________________________\n",
      "dense_112 (Dense)            (None, 39)                3939      \n",
      "=================================================================\n",
      "Total params: 164,743\n",
      "Trainable params: 164,743\n",
      "Non-trainable params: 0\n",
      "_________________________________________________________________\n",
      "Epoch 1/50\n",
      "17/17 [==============================] - 1s 14ms/step - loss: 5.2863 - accuracy: 0.0249 - val_loss: 4.7073 - val_accuracy: 0.0305\n",
      "Epoch 2/50\n",
      "17/17 [==============================] - 0s 6ms/step - loss: 4.4148 - accuracy: 0.0421 - val_loss: 4.1638 - val_accuracy: 0.0382\n",
      "Epoch 3/50\n",
      "17/17 [==============================] - 0s 5ms/step - loss: 4.0383 - accuracy: 0.0440 - val_loss: 3.9568 - val_accuracy: 0.0458\n",
      "Epoch 4/50\n",
      "17/17 [==============================] - 0s 5ms/step - loss: 3.8857 - accuracy: 0.0478 - val_loss: 3.8861 - val_accuracy: 0.0534\n",
      "Epoch 5/50\n",
      "17/17 [==============================] - 0s 5ms/step - loss: 3.8032 - accuracy: 0.0841 - val_loss: 3.8433 - val_accuracy: 0.0611\n",
      "Epoch 6/50\n",
      "17/17 [==============================] - 0s 5ms/step - loss: 3.7058 - accuracy: 0.1281 - val_loss: 3.8072 - val_accuracy: 0.1069\n",
      "Epoch 7/50\n",
      "17/17 [==============================] - 0s 5ms/step - loss: 3.5976 - accuracy: 0.1472 - val_loss: 3.7339 - val_accuracy: 0.1374\n",
      "Epoch 8/50\n",
      "17/17 [==============================] - 0s 5ms/step - loss: 3.4724 - accuracy: 0.1989 - val_loss: 3.7087 - val_accuracy: 0.1527\n",
      "Epoch 9/50\n",
      "17/17 [==============================] - 0s 5ms/step - loss: 3.3110 - accuracy: 0.2639 - val_loss: 3.6691 - val_accuracy: 0.1603\n",
      "Epoch 10/50\n",
      "17/17 [==============================] - 0s 5ms/step - loss: 3.1271 - accuracy: 0.3270 - val_loss: 3.6792 - val_accuracy: 0.1756\n",
      "Epoch 11/50\n",
      "17/17 [==============================] - 0s 5ms/step - loss: 2.9194 - accuracy: 0.4149 - val_loss: 3.6151 - val_accuracy: 0.2214\n",
      "Epoch 12/50\n",
      "17/17 [==============================] - 0s 5ms/step - loss: 2.8267 - accuracy: 0.4034 - val_loss: 3.5854 - val_accuracy: 0.2366\n",
      "Epoch 13/50\n",
      "17/17 [==============================] - 0s 5ms/step - loss: 2.6619 - accuracy: 0.4608 - val_loss: 3.5955 - val_accuracy: 0.2748\n",
      "Epoch 14/50\n",
      "17/17 [==============================] - 0s 6ms/step - loss: 2.5718 - accuracy: 0.4837 - val_loss: 3.7269 - val_accuracy: 0.2290\n",
      "Epoch 15/50\n",
      "17/17 [==============================] - 0s 6ms/step - loss: 2.4636 - accuracy: 0.5239 - val_loss: 3.7149 - val_accuracy: 0.2595\n",
      "Epoch 16/50\n",
      "17/17 [==============================] - 0s 5ms/step - loss: 2.3129 - accuracy: 0.5583 - val_loss: 3.5565 - val_accuracy: 0.2748\n",
      "Epoch 17/50\n",
      "17/17 [==============================] - 0s 5ms/step - loss: 2.2058 - accuracy: 0.6119 - val_loss: 3.5934 - val_accuracy: 0.3053\n",
      "Epoch 18/50\n",
      "17/17 [==============================] - 0s 5ms/step - loss: 2.1454 - accuracy: 0.6329 - val_loss: 3.6272 - val_accuracy: 0.3359\n",
      "Epoch 19/50\n",
      "17/17 [==============================] - 0s 5ms/step - loss: 2.0489 - accuracy: 0.6692 - val_loss: 3.5503 - val_accuracy: 0.3282\n",
      "Epoch 20/50\n",
      "17/17 [==============================] - 0s 6ms/step - loss: 1.9591 - accuracy: 0.6845 - val_loss: 3.5791 - val_accuracy: 0.3664\n",
      "Epoch 21/50\n",
      "17/17 [==============================] - 0s 6ms/step - loss: 1.8924 - accuracy: 0.6979 - val_loss: 3.5437 - val_accuracy: 0.3817\n",
      "Epoch 22/50\n",
      "17/17 [==============================] - 0s 5ms/step - loss: 1.8316 - accuracy: 0.7247 - val_loss: 3.5609 - val_accuracy: 0.3588\n",
      "Epoch 23/50\n",
      "17/17 [==============================] - 0s 5ms/step - loss: 1.7607 - accuracy: 0.7686 - val_loss: 3.5295 - val_accuracy: 0.3588\n",
      "Epoch 24/50\n",
      "17/17 [==============================] - 0s 5ms/step - loss: 1.7933 - accuracy: 0.7706 - val_loss: 3.5233 - val_accuracy: 0.3817\n",
      "Epoch 25/50\n",
      "17/17 [==============================] - 0s 5ms/step - loss: 1.7092 - accuracy: 0.7820 - val_loss: 3.6016 - val_accuracy: 0.4580\n",
      "Epoch 26/50\n",
      "17/17 [==============================] - 0s 6ms/step - loss: 1.6624 - accuracy: 0.8011 - val_loss: 3.4191 - val_accuracy: 0.4275\n",
      "Epoch 27/50\n",
      "17/17 [==============================] - 0s 6ms/step - loss: 1.6651 - accuracy: 0.7992 - val_loss: 3.6725 - val_accuracy: 0.4351\n",
      "Epoch 28/50\n",
      "17/17 [==============================] - 0s 5ms/step - loss: 1.6518 - accuracy: 0.8011 - val_loss: 3.5163 - val_accuracy: 0.4733\n",
      "Epoch 29/50\n",
      "17/17 [==============================] - 0s 5ms/step - loss: 1.5703 - accuracy: 0.8394 - val_loss: 3.5351 - val_accuracy: 0.4733\n",
      "Epoch 30/50\n",
      "17/17 [==============================] - 0s 5ms/step - loss: 1.5065 - accuracy: 0.8509 - val_loss: 3.6118 - val_accuracy: 0.4580\n",
      "Epoch 31/50\n",
      "17/17 [==============================] - 0s 5ms/step - loss: 1.4986 - accuracy: 0.8413 - val_loss: 3.5012 - val_accuracy: 0.4656\n",
      "Epoch 32/50\n",
      "17/17 [==============================] - 0s 5ms/step - loss: 1.5201 - accuracy: 0.8356 - val_loss: 3.4796 - val_accuracy: 0.4580\n",
      "Epoch 33/50\n",
      "17/17 [==============================] - 0s 5ms/step - loss: 1.4937 - accuracy: 0.8394 - val_loss: 3.5583 - val_accuracy: 0.5191\n",
      "Epoch 34/50\n",
      "17/17 [==============================] - 0s 5ms/step - loss: 1.4900 - accuracy: 0.8509 - val_loss: 3.5501 - val_accuracy: 0.5038\n",
      "Epoch 35/50\n",
      "17/17 [==============================] - 0s 5ms/step - loss: 1.4575 - accuracy: 0.8528 - val_loss: 3.5722 - val_accuracy: 0.4809\n",
      "Epoch 36/50\n",
      "17/17 [==============================] - 0s 5ms/step - loss: 1.4376 - accuracy: 0.8566 - val_loss: 3.5094 - val_accuracy: 0.5191\n",
      "Epoch 37/50\n",
      "17/17 [==============================] - 0s 6ms/step - loss: 1.4300 - accuracy: 0.8719 - val_loss: 3.5273 - val_accuracy: 0.5191\n",
      "Epoch 38/50\n",
      "17/17 [==============================] - 0s 5ms/step - loss: 1.4237 - accuracy: 0.8719 - val_loss: 3.4984 - val_accuracy: 0.5191\n",
      "Epoch 39/50\n",
      "17/17 [==============================] - 0s 5ms/step - loss: 1.3860 - accuracy: 0.8662 - val_loss: 3.6872 - val_accuracy: 0.5267\n",
      "Epoch 40/50\n",
      "17/17 [==============================] - 0s 5ms/step - loss: 1.3766 - accuracy: 0.8910 - val_loss: 3.5629 - val_accuracy: 0.5038\n",
      "Epoch 41/50\n",
      "17/17 [==============================] - 0s 5ms/step - loss: 1.3656 - accuracy: 0.8948 - val_loss: 3.5393 - val_accuracy: 0.5344\n",
      "Epoch 42/50\n",
      "17/17 [==============================] - 0s 5ms/step - loss: 1.3662 - accuracy: 0.8662 - val_loss: 3.3777 - val_accuracy: 0.5420\n",
      "Epoch 43/50\n",
      "17/17 [==============================] - 0s 5ms/step - loss: 1.3537 - accuracy: 0.8872 - val_loss: 3.4262 - val_accuracy: 0.5649\n",
      "Epoch 44/50\n",
      "17/17 [==============================] - 0s 5ms/step - loss: 1.2780 - accuracy: 0.9178 - val_loss: 3.4018 - val_accuracy: 0.5573\n",
      "Epoch 45/50\n",
      "17/17 [==============================] - 0s 5ms/step - loss: 1.3139 - accuracy: 0.8834 - val_loss: 3.3907 - val_accuracy: 0.5649\n",
      "Epoch 46/50\n",
      "17/17 [==============================] - 0s 5ms/step - loss: 1.2888 - accuracy: 0.9025 - val_loss: 3.3621 - val_accuracy: 0.5649\n",
      "Epoch 47/50\n",
      "17/17 [==============================] - 0s 5ms/step - loss: 1.2687 - accuracy: 0.9025 - val_loss: 3.4245 - val_accuracy: 0.5573\n",
      "Epoch 48/50\n",
      "17/17 [==============================] - 0s 6ms/step - loss: 1.2649 - accuracy: 0.9006 - val_loss: 3.5251 - val_accuracy: 0.5420\n",
      "Epoch 49/50\n"
     ]
    },
    {
     "name": "stdout",
     "output_type": "stream",
     "text": [
      "17/17 [==============================] - 0s 5ms/step - loss: 1.2191 - accuracy: 0.9216 - val_loss: 3.4664 - val_accuracy: 0.5420\n",
      "Epoch 50/50\n",
      "17/17 [==============================] - 0s 5ms/step - loss: 1.2315 - accuracy: 0.9159 - val_loss: 3.4050 - val_accuracy: 0.5649\n"
     ]
    }
   ],
   "source": [
    "activation_fn = 'relu'\n",
    "reg = 'l2'\n",
    "\n",
    "model = tf.keras.models.Sequential([\n",
    "  # ===============================\n",
    "  tf.keras.layers.Conv1D(8, kernel_size=1, activation=activation_fn, input_shape=(50,1), kernel_regularizer=reg),\n",
    "  tf.keras.layers.MaxPooling1D(1, 1),\n",
    "  tf.keras.layers.Conv1D(16, kernel_size=1, activation=activation_fn, kernel_regularizer=reg),\n",
    "  #tf.keras.layers.MaxPooling1D(1,1),\n",
    "  tf.keras.layers.Conv1D(32, kernel_size=1, activation=activation_fn, kernel_regularizer=reg),\n",
    "  #tf.keras.layers.MaxPooling1D(1,1),\n",
    "  # ===============================\n",
    "  tf.keras.layers.Flatten(),\n",
    "  tf.keras.layers.Dropout(0.5),\n",
    "  #tf.keras.layers.Dense(128, activation=activation_fn),\n",
    "  tf.keras.layers.Dense(100, activation=activation_fn, kernel_regularizer=reg),\n",
    "  tf.keras.layers.Dense(39, activation='softmax')\n",
    "])\n",
    "\n",
    "model.compile(optimizer='adam', loss='sparse_categorical_crossentropy', metrics=['accuracy'])\n",
    "model.summary()\n",
    "\n",
    "history = model.fit(X_train, y_train, epochs=50, verbose=1,  validation_data=(X_test, y_test))"
   ]
  },
  {
   "cell_type": "code",
   "execution_count": 120,
   "id": "5c78ce48",
   "metadata": {},
   "outputs": [
    {
     "data": {
      "image/png": "[encoded data removed]",
      "text/plain": [
       "<Figure size 432x288 with 1 Axes>"
      ]
     },
     "metadata": {
      "needs_background": "light"
     },
     "output_type": "display_data"
    },
    {
     "data": {
      "image/png": "[encoded data removed]",
      "text/plain": [
       "<Figure size 432x288 with 1 Axes>"
      ]
     },
     "metadata": {
      "needs_background": "light"
     },
     "output_type": "display_data"
    }
   ],
   "source": [
    "import matplotlib.pyplot as plt\n",
    "\n",
    "plt.plot(history.history['accuracy'])\n",
    "plt.plot(history.history['val_accuracy'])\n",
    "plt.title('model accuracy')\n",
    "plt.ylabel('accuracy')\n",
    "plt.xlabel('epoch')\n",
    "plt.legend(['train', 'test'], loc='upper left')\n",
    "plt.show()\n",
    "\n",
    "plt.plot(history.history['loss'])\n",
    "plt.plot(history.history['val_loss'])\n",
    "plt.title('model loss')\n",
    "plt.ylabel('loss')\n",
    "plt.xlabel('epoch')\n",
    "plt.legend(['train', 'test'], loc='upper left')\n",
    "plt.show()"
   ]
  },
  {
   "cell_type": "code",
   "execution_count": null,
   "id": "ca8f2dc8",
   "metadata": {},
   "outputs": [],
   "source": [
    "# train set acc: 91%, test set acc: 56%, there is overfitting over the training set."
   ]
  }
 ],
 "metadata": {
  "kernelspec": {
   "display_name": "Python 3 (ipykernel)",
   "language": "python",
   "name": "python3"
  },
  "language_info": {
   "codemirror_mode": {
    "name": "ipython",
    "version": 3
   },
   "file_extension": ".py",
   "mimetype": "text/x-python",
   "name": "python",
   "nbconvert_exporter": "python",
   "pygments_lexer": "ipython3",
   "version": "3.9.10"
  }
 },
 "nbformat": 4,
 "nbformat_minor": 5
}
