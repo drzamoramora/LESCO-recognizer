{
 "cells": [
  {
   "cell_type": "code",
   "execution_count": 121,
   "id": "9f783e46",
   "metadata": {},
   "outputs": [],
   "source": [
    "#import warnings\n",
    "#warnings.filterwarnings('ignore')\n",
    "\n",
    "import csv\n",
    "import numpy as np\n",
    "from sklearn.model_selection import train_test_split\n",
    "import tensorflow as tf\n",
    "import pandas as pd"
   ]
  },
  {
   "cell_type": "markdown",
   "id": "17e46a1f",
   "metadata": {},
   "source": [
    "# Data"
   ]
  },
  {
   "cell_type": "markdown",
   "id": "24ba61d6",
   "metadata": {},
   "source": [
    "## Load data from Iteration 1 csv's"
   ]
  },
  {
   "cell_type": "code",
   "execution_count": 122,
   "id": "23e8e243",
   "metadata": {},
   "outputs": [],
   "source": [
    "# load all pre-proceesed videos.\n",
    "videos = []\n",
    "with open(\"videos.csv\", \"r\") as f:\n",
    "    reader = csv.reader(f, delimiter=\"\\t\")\n",
    "    for i, line in enumerate(reader):\n",
    "        video = [float(x) for x in line[0].split(',')]\n",
    "        videos.append(video)\n",
    "        \n",
    "labels = []\n",
    "with open(\"labels.csv\", \"r\") as f:\n",
    "    reader = csv.reader(f, delimiter=\"\\t\")\n",
    "    for i, line in enumerate(reader):\n",
    "        labels = [x.replace(\"'\",\"\").replace('\"',\"\") for x in line[0].split(',')]"
   ]
  },
  {
   "cell_type": "code",
   "execution_count": 123,
   "id": "d123d724",
   "metadata": {},
   "outputs": [
    {
     "name": "stdout",
     "output_type": "stream",
     "text": [
      "Classes ['agredir' 'ahi' 'arboles' 'ataquecorazon' 'atropellar' 'basura' 'calle'\n",
      " 'carro' 'casa' 'chocar' 'cocina' 'desmayar' 'dolorestomago' 'ebrio'\n",
      " 'ellos' 'esposa' 'esposo' 'fosforo' 'fuego' 'hermana' 'hijo'\n",
      " 'inconsciente' 'llavecarro' 'madre' 'mi' 'muerto' 'nacerbebe' 'nopermiso'\n",
      " 'padre' 'personaacostada' 'pistola' 'talar' 'tener' 'tio' 'vecino'\n",
      " 'veneno' 'violento' 'vomitar' 'yo'] \n",
      "\n",
      "[ 0  0  0  0  0  0  0  0  0  0  0  0  0  0  0  0  0  0  1  1  1  1  1  1\n",
      "  1  1  1  1  1  1  1  1  1  1  1  1  2  2  2  2  2  2  2  2  2  2  2  2\n",
      "  2  2  2  2  2  2  3  3  3  3  3  3  3  3  3  3  3  3  3  3  3  3  3  3\n",
      "  4  4  4  4  4  4  4  4  4  4  4  4  4  4  4  4  4  4  5  5  5  5  5  5\n",
      "  5  5  5  5  5  5  5  5  5  5  5  5  6  6  6  6  6  6  6  6  6  6  6  6\n",
      "  6  6  6  6  6  6  7  7  7  7  7  7  7  7  7  7  7  7  7  7  7  7  7  7\n",
      "  8  8  8  8  8  8  8  8  8  8  8  8  8  8  8  8  8  8  9  9  9  9  9  9\n",
      "  9  9  9  9  9  9  9  9  9  9  9  9 10 10 10 10 10 10 10 10 10 10 10 10\n",
      " 10 10 10 10 10 10 11 11 11 11 11 11 11 11 11 11 11 11 12 12 12 12 12 12\n",
      " 12 12 12 12 12 12 12 12 12 12 12 12 13 13 13 13 13 13 13 13 13 13 13 13\n",
      " 13 13 13 13 13 13 14 14 14 14 14 14 14 14 14 14 14 14 14 14 14 14 14 14\n",
      " 15 15 15 15 15 15 15 15 15 15 15 15 15 15 15 15 15 15 16 16 16 16 16 16\n",
      " 16 16 16 16 16 16 16 16 16 16 16 16 17 17 17 17 17 17 17 17 17 17 17 17\n",
      " 18 18 18 18 18 18 18 18 18 18 18 18 18 18 18 18 18 18 19 19 19 19 19 19\n",
      " 19 19 19 19 19 19 19 19 19 19 19 19 20 20 20 20 20 20 20 20 20 20 20 20\n",
      " 20 20 20 20 20 20 21 21 21 21 21 21 21 21 21 21 21 21 22 22 22 22 22 22\n",
      " 22 22 22 22 22 22 22 22 22 22 22 22 23 23 23 23 23 23 23 23 23 23 23 23\n",
      " 23 23 23 23 23 23 24 24 24 24 24 24 24 24 24 24 24 24 24 24 24 24 24 24\n",
      " 25 25 25 25 25 25 25 25 25 25 25 25 25 25 25 25 25 25 26 26 26 26 26 26\n",
      " 26 26 26 26 26 26 27 27 27 27 27 27 27 27 27 27 27 27 28 28 28 28 28 28\n",
      " 28 28 28 28 28 28 28 28 28 28 28 28 29 29 29 29 29 29 29 29 29 29 29 29\n",
      " 29 29 29 29 29 29 30 30 30 30 30 30 30 30 30 30 30 30 30 30 30 30 30 30\n",
      " 31 31 31 31 31 31 31 31 31 31 31 31 31 31 31 31 31 31 32 32 32 32 32 32\n",
      " 32 32 32 32 32 32 32 32 32 32 32 32 33 33 33 33 33 33 33 33 33 33 33 33\n",
      " 34 34 34 34 34 34 34 34 34 34 34 34 34 34 34 34 34 34 35 35 35 35 35 35\n",
      " 35 35 35 35 35 35 35 35 35 35 35 35 36 36 36 36 36 36 36 36 36 36 36 36\n",
      " 37 37 37 37 37 37 37 37 37 37 37 37 38 38 38 38 38 38 38 38 38 38 38 38\n",
      " 38 38 38 38 38 38]\n"
     ]
    }
   ],
   "source": [
    "from sklearn import preprocessing\n",
    "\n",
    "le = preprocessing.LabelEncoder()\n",
    "le.fit(labels)\n",
    "\n",
    "print(\"Classes\",le.classes_, \"\\n\")\n",
    "\n",
    "labels_encoded = le.transform(labels)\n",
    "\n",
    "print(labels_encoded)"
   ]
  },
  {
   "cell_type": "markdown",
   "id": "b0ec1245",
   "metadata": {},
   "source": [
    "## Convert dataset to tensor (x, 50, 1)"
   ]
  },
  {
   "cell_type": "code",
   "execution_count": 124,
   "id": "12ec8f06",
   "metadata": {},
   "outputs": [
    {
     "data": {
      "text/plain": [
       "(654, 50, 1)"
      ]
     },
     "execution_count": 124,
     "metadata": {},
     "output_type": "execute_result"
    }
   ],
   "source": [
    "padding_size = 50\n",
    "\n",
    "for i in range(0,len(videos)):\n",
    "    videos[i].extend([0] * (padding_size - len(videos[i])))\n",
    "    \n",
    "    \n",
    "videos_tensor = []\n",
    "for video in videos:\n",
    "    videos_tensor.append(np.array(list(video)).reshape(-1,1))\n",
    "    \n",
    "videos_tensor = np.array(videos_tensor)\n",
    "videos_tensor.shape"
   ]
  },
  {
   "cell_type": "markdown",
   "id": "e7204c78",
   "metadata": {},
   "source": [
    "## Training and test set split"
   ]
  },
  {
   "cell_type": "code",
   "execution_count": 125,
   "id": "4bbf1474",
   "metadata": {},
   "outputs": [
    {
     "name": "stdout",
     "output_type": "stream",
     "text": [
      "Training 523\n",
      "Training 131\n"
     ]
    }
   ],
   "source": [
    "X_train, X_test, y_train, y_test = train_test_split(videos_tensor, labels_encoded, test_size=0.20, random_state=43)\n",
    "\n",
    "print(\"Training\", len(X_train))\n",
    "print(\"Training\", len(X_test))"
   ]
  },
  {
   "cell_type": "code",
   "execution_count": 126,
   "id": "9cbcc4eb",
   "metadata": {},
   "outputs": [
    {
     "data": {
      "text/plain": [
       "(523, 1)"
      ]
     },
     "execution_count": 126,
     "metadata": {},
     "output_type": "execute_result"
    }
   ],
   "source": [
    "y_train = np.array(y_train).reshape(-1,1)\n",
    "y_test = np.array(y_test).reshape(-1,1)\n",
    "\n",
    "y_train.shape"
   ]
  },
  {
   "cell_type": "markdown",
   "id": "b25feedf",
   "metadata": {},
   "source": [
    "# Machine Learning Models (SimpleRNN)"
   ]
  },
  {
   "cell_type": "code",
   "execution_count": 136,
   "id": "e2d696cb",
   "metadata": {},
   "outputs": [
    {
     "name": "stdout",
     "output_type": "stream",
     "text": [
      "Model: \"sequential_50\"\n",
      "_________________________________________________________________\n",
      "Layer (type)                 Output Shape              Param #   \n",
      "=================================================================\n",
      "simple_rnn_13 (SimpleRNN)    (None, 50, 30)            960       \n",
      "_________________________________________________________________\n",
      "simple_rnn_14 (SimpleRNN)    (None, 50, 20)            1020      \n",
      "_________________________________________________________________\n",
      "flatten_50 (Flatten)         (None, 1000)              0         \n",
      "_________________________________________________________________\n",
      "dropout_13 (Dropout)         (None, 1000)              0         \n",
      "_________________________________________________________________\n",
      "dense_124 (Dense)            (None, 128)               128128    \n",
      "_________________________________________________________________\n",
      "dense_125 (Dense)            (None, 39)                5031      \n",
      "=================================================================\n",
      "Total params: 135,139\n",
      "Trainable params: 135,139\n",
      "Non-trainable params: 0\n",
      "_________________________________________________________________\n",
      "Epoch 1/20\n",
      "17/17 [==============================] - 4s 169ms/step - loss: 3.6614 - accuracy: 0.0516 - val_loss: 3.5165 - val_accuracy: 0.0763\n",
      "Epoch 2/20\n",
      "17/17 [==============================] - 3s 154ms/step - loss: 3.2688 - accuracy: 0.1472 - val_loss: 3.3902 - val_accuracy: 0.1221\n",
      "Epoch 3/20\n",
      "17/17 [==============================] - 3s 154ms/step - loss: 2.9203 - accuracy: 0.2314 - val_loss: 3.1816 - val_accuracy: 0.2214\n",
      "Epoch 4/20\n",
      "17/17 [==============================] - 3s 155ms/step - loss: 2.5947 - accuracy: 0.3021 - val_loss: 3.1172 - val_accuracy: 0.2061\n",
      "Epoch 5/20\n",
      "17/17 [==============================] - 3s 154ms/step - loss: 2.2496 - accuracy: 0.4149 - val_loss: 3.0068 - val_accuracy: 0.2595\n",
      "Epoch 6/20\n",
      "17/17 [==============================] - 3s 156ms/step - loss: 1.9713 - accuracy: 0.4780 - val_loss: 2.8530 - val_accuracy: 0.2443\n",
      "Epoch 7/20\n",
      "17/17 [==============================] - 3s 155ms/step - loss: 1.7523 - accuracy: 0.5488 - val_loss: 2.7725 - val_accuracy: 0.3130\n",
      "Epoch 8/20\n",
      "17/17 [==============================] - 3s 154ms/step - loss: 1.4940 - accuracy: 0.6080 - val_loss: 2.7707 - val_accuracy: 0.3130\n",
      "Epoch 9/20\n",
      "17/17 [==============================] - 3s 153ms/step - loss: 1.2991 - accuracy: 0.6424 - val_loss: 2.6204 - val_accuracy: 0.3511\n",
      "Epoch 10/20\n",
      "17/17 [==============================] - 3s 154ms/step - loss: 1.1207 - accuracy: 0.7113 - val_loss: 2.6283 - val_accuracy: 0.3664\n",
      "Epoch 11/20\n",
      "17/17 [==============================] - 3s 154ms/step - loss: 0.9746 - accuracy: 0.7419 - val_loss: 2.5517 - val_accuracy: 0.3740\n",
      "Epoch 12/20\n",
      "17/17 [==============================] - 3s 154ms/step - loss: 0.8020 - accuracy: 0.8069 - val_loss: 2.4988 - val_accuracy: 0.4275\n",
      "Epoch 13/20\n",
      "17/17 [==============================] - 3s 153ms/step - loss: 0.6584 - accuracy: 0.8470 - val_loss: 2.5121 - val_accuracy: 0.4351\n",
      "Epoch 14/20\n",
      "17/17 [==============================] - 3s 155ms/step - loss: 0.6079 - accuracy: 0.8547 - val_loss: 2.5613 - val_accuracy: 0.4351\n",
      "Epoch 15/20\n",
      "17/17 [==============================] - 3s 154ms/step - loss: 0.5323 - accuracy: 0.8738 - val_loss: 2.4659 - val_accuracy: 0.4580\n",
      "Epoch 16/20\n",
      "17/17 [==============================] - 3s 156ms/step - loss: 0.4334 - accuracy: 0.9216 - val_loss: 2.5165 - val_accuracy: 0.4504\n",
      "Epoch 17/20\n",
      "17/17 [==============================] - 3s 154ms/step - loss: 0.4095 - accuracy: 0.9120 - val_loss: 2.5523 - val_accuracy: 0.4351\n",
      "Epoch 18/20\n",
      "17/17 [==============================] - 3s 154ms/step - loss: 0.3836 - accuracy: 0.9159 - val_loss: 2.5933 - val_accuracy: 0.4656\n",
      "Epoch 19/20\n",
      "17/17 [==============================] - 3s 154ms/step - loss: 0.2942 - accuracy: 0.9388 - val_loss: 2.4412 - val_accuracy: 0.4809\n",
      "Epoch 20/20\n",
      "17/17 [==============================] - 3s 153ms/step - loss: 0.2975 - accuracy: 0.9484 - val_loss: 2.4586 - val_accuracy: 0.4733\n"
     ]
    }
   ],
   "source": [
    "model = tf.keras.models.Sequential([\n",
    "  # ===============================\n",
    "  tf.keras.layers.SimpleRNN(30, return_sequences = True, input_shape=[50,1]),\n",
    "  tf.keras.layers.SimpleRNN(20, return_sequences = True),  \n",
    "  # ===============================\n",
    "  tf.keras.layers.Flatten(),\n",
    "  tf.keras.layers.Dropout(0.5),\n",
    "  tf.keras.layers.Dense(128, activation=activation_fn),\n",
    "  tf.keras.layers.Dense(39, activation='softmax')\n",
    "])\n",
    "\n",
    "model.compile(optimizer='adam', loss='sparse_categorical_crossentropy', metrics=['accuracy'])\n",
    "model.summary()\n",
    "\n",
    "history = model.fit(X_train, y_train, epochs=20, verbose=1,  validation_data=(X_test, y_test))"
   ]
  },
  {
   "cell_type": "code",
   "execution_count": 137,
   "id": "5c78ce48",
   "metadata": {},
   "outputs": [
    {
     "data": {
      "image/png": "[encoded data removed]",
      "text/plain": [
       "<Figure size 432x288 with 1 Axes>"
      ]
     },
     "metadata": {
      "needs_background": "light"
     },
     "output_type": "display_data"
    },
    {
     "data": {
      "image/png": "[encoded data removed]",
      "text/plain": [
       "<Figure size 432x288 with 1 Axes>"
      ]
     },
     "metadata": {
      "needs_background": "light"
     },
     "output_type": "display_data"
    }
   ],
   "source": [
    "import matplotlib.pyplot as plt\n",
    "\n",
    "plt.plot(history.history['accuracy'])\n",
    "plt.plot(history.history['val_accuracy'])\n",
    "plt.title('model accuracy')\n",
    "plt.ylabel('accuracy')\n",
    "plt.xlabel('epoch')\n",
    "plt.legend(['train', 'test'], loc='upper left')\n",
    "plt.show()\n",
    "\n",
    "plt.plot(history.history['loss'])\n",
    "plt.plot(history.history['val_loss'])\n",
    "plt.title('model loss')\n",
    "plt.ylabel('loss')\n",
    "plt.xlabel('epoch')\n",
    "plt.legend(['train', 'test'], loc='upper left')\n",
    "plt.show()"
   ]
  },
  {
   "cell_type": "code",
   "execution_count": null,
   "id": "16279c4b",
   "metadata": {},
   "outputs": [],
   "source": [
    "# train set acc: 94%, test set acc: 47%, there is overfitting over the training set."
   ]
  }
 ],
 "metadata": {
  "kernelspec": {
   "display_name": "Python 3 (ipykernel)",
   "language": "python",
   "name": "python3"
  },
  "language_info": {
   "codemirror_mode": {
    "name": "ipython",
    "version": 3
   },
   "file_extension": ".py",
   "mimetype": "text/x-python",
   "name": "python",
   "nbconvert_exporter": "python",
   "pygments_lexer": "ipython3",
   "version": "3.9.10"
  }
 },
 "nbformat": 4,
 "nbformat_minor": 5
}
